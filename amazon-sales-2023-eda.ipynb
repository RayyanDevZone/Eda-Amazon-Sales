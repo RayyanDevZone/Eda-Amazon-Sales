{
 "cells": [
  {
   "cell_type": "markdown",
   "id": "dad535c8",
   "metadata": {},
   "source": [
    "# **<p style=\"font-family:Inter, sans-serif;font-size:150%;text-align:center;color:#ff9900;\">AMAZON SALES DATASET - 2023 EDA</p>**"
   ]
  },
  {
   "cell_type": "markdown",
   "id": "d729bccc",
   "metadata": {},
   "source": [
    "<center>\n",
    "    <img src=\"amazon-eda-image.png\" alt=\"Amazon Sales EDA\" width=\"700\">\n",
    "</center>"
   ]
  },
  {
   "cell_type": "markdown",
   "id": "f8dd9cf2",
   "metadata": {},
   "source": [
    "# **<p style=\"font-family:Inter, sans-serif;font-size:100%;text-align:center;color:#ff9900;\">ABOUT AUTHOR</p>**\n",
    "\n",
    "### ***Project: Amazon Sales Dataset 2023 EDA***\n",
    "\n",
    "---\n",
    "\n",
    "### ***Author: Syed Ahmad Rayyan***\n",
    "***Young Data Science Aspirant and Kaggle Contributor***\n",
    "\n",
    "**Contact:** [Email](mailto:rayyansyed369@gmail.com) | [LinkedIn](https://www.linkedin.com/in/syed-rayyan369) | [GitHub](https://github.com/RayyanDevZone) | [Kaggle](https://www.kaggle.com/syedahmadrayyan)\n",
    "\n",
    "---\n"
   ]
  },
  {
   "cell_type": "markdown",
   "id": "dfd19827",
   "metadata": {},
   "source": [
    "# **<p style=\"font-family:Inter, sans-serif;font-size:100%;text-align:center;color:#ff9900;\">ABOUT DATA</p>**\n",
    "### ***Title: Amazon Sales Dataset - 2023*** \n",
    "### ***Dataset:*** [link](https://www.kaggle.com/datasets/lokeshparab/amazon-products-dataset)\n",
    "\n",
    "#### **<h1 align=\"center\"><span style=\"color:#ff9900;\">Dataset Columns Names</span>**  \n",
    "### ***This dataset is having the data of 1K+ Amazon Products across 140+ categories, scraped from the official Amazon website in 2023. Each CSV file represents a specific product category (like Shoes, Shirts, Yoga, Western Wear, etc.), containing detailed information such as pricing, discounts, ratings, and product links.***\n",
    "\n",
    "## ***Features***  \n",
    "\n",
    "### ***name - The name or title of the product as listed on Amazon***  \n",
    "### ***main_category - The main category under which the product falls (e.g., Fashion, Electronics, Sports, etc.)***  \n",
    "### ***sub_category - The specific subcategory or niche of the product (e.g., Men's Shirts, Yoga Mats, Women's Shoes, etc.)***  \n",
    "### ***image - The direct image link showing how the product looks***  \n",
    "### ***link - The official Amazon product page URL***  \n",
    "### ***ratings - The average customer rating (out of 5) given by verified buyers***  \n",
    "### ***no_of_ratings - The total number of ratings or votes received for the product***  \n",
    "### ***discount_price - The current discounted selling price of the product***  \n",
    "### ***actual_price - The original MRP (before discount) of the product***  \n",
    "### ***source_file - The CSV file name or category source from which this product data was extracted (added during merging for traceability)***  \n",
    "\n"
   ]
  },
  {
   "cell_type": "markdown",
   "id": "95295070",
   "metadata": {},
   "source": []
  }
 ],
 "metadata": {
  "language_info": {
   "name": "python"
  }
 },
 "nbformat": 4,
 "nbformat_minor": 5
}
