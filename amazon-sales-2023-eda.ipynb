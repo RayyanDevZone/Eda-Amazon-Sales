{
 "cells": [
  {
   "cell_type": "markdown",
   "id": "dad535c8",
   "metadata": {},
   "source": [
    "# **<p style=\"font-family:Inter, sans-serif;font-size:150%;text-align:center;color:#ff9900;\">AMAZON SALES DATASET - 2023 EDA</p>**"
   ]
  },
  {
   "cell_type": "markdown",
   "id": "d729bccc",
   "metadata": {},
   "source": [
    "<center>\n",
    "    <img src=\"amazon-eda-image.png\" alt=\"Amazon Sales EDA\" width=\"700\">\n",
    "</center>"
   ]
  },
  {
   "cell_type": "markdown",
   "id": "f8dd9cf2",
   "metadata": {},
   "source": [
    "# **<p style=\"font-family:Inter, sans-serif;font-size:100%;text-align:center;color:#ff9900;\">ABOUT AUTHOR</p>**\n",
    "\n",
    "### ***Project: Amazon Sales Dataset 2023 EDA***\n",
    "\n",
    "---\n",
    "\n",
    "### ***Author: Syed Ahmad Rayyan***\n",
    "***Young Data Science Aspirant and Kaggle Contributor***\n",
    "\n",
    "**Contact:** [Email](mailto:rayyansyed369@gmail.com) | [LinkedIn](https://www.linkedin.com/in/syed-rayyan369) | [GitHub](https://github.com/RayyanDevZone) | [Kaggle](https://www.kaggle.com/syedahmadrayyan)\n",
    "\n",
    "---\n"
   ]
  },
  {
   "cell_type": "markdown",
   "id": "dfd19827",
   "metadata": {},
   "source": [
    "# **<p style=\"font-family:Inter, sans-serif;font-size:100%;text-align:center;color:#ff9900;\">ABOUT DATA</p>**\n",
    "### ***Title: Amazon Sales Dataset - 2023*** \n",
    "### ***Dataset:*** [link](https://www.kaggle.com/datasets/lokeshparab/amazon-products-dataset)\n",
    "\n",
    "#### **<h1 align=\"center\"><span style=\"color:#ff9900;\">Dataset Columns Names</span>**  \n",
    "### ***This dataset is having the data of 1K+ Amazon Products across 140+ categories, scraped from the official Amazon website in 2023. Each CSV file represents a specific product category (like Shoes, Shirts, Yoga, Western Wear, etc.), containing detailed information such as pricing, discounts, ratings, and product links.***\n",
    "\n",
    "## ***Features***  \n",
    "\n",
    "### ***name - The name or title of the product as listed on Amazon***  \n",
    "### ***main_category - The main category under which the product falls (e.g., Fashion, Electronics, Sports, etc.)***  \n",
    "### ***sub_category - The specific subcategory or niche of the product (e.g., Men's Shirts, Yoga Mats, Women's Shoes, etc.)***  \n",
    "### ***image - The direct image link showing how the product looks***  \n",
    "### ***link - The official Amazon product page URL***  \n",
    "### ***ratings - The average customer rating (out of 5) given by verified buyers***  \n",
    "### ***no_of_ratings - The total number of ratings or votes received for the product***  \n",
    "### ***discount_price - The current discounted selling price of the product***  \n",
    "### ***actual_price - The original MRP (before discount) of the product***  \n",
    "### ***source_file - The CSV file name or category source from which this product data was extracted (added during merging for traceability)***  \n",
    "\n"
   ]
  },
  {
   "cell_type": "markdown",
   "id": "97019dce",
   "metadata": {},
   "source": [
    "#### **<h1 align=\"center\"><span style=\"color:#ff9900;\">Task</span>**\n",
    "### ***Exploring the Amazon Sales Dataset - 2023 involves a step-by-step process. First,we join the dataset as its fragmented based on categories, then we clean and prepare the data to ensure it's accurate and consistent. Then, we summarize the data using descriptive statistics like averages and ranges. Next, we visualize the data with charts and graphs to see patterns and relationships. We detect outliers, which are unusual data points, and test our assumptions about the data. We divide the data into groups for better understanding and finally, we summarize our findings and answers some business questions.*** "
   ]
  },
  {
   "cell_type": "markdown",
   "id": "9747976c",
   "metadata": {},
   "source": [
    "#### **<h1 align=\"center\"><span style=\"font-family:Inter , sans-serif;color:#ff9900;\">Objectives</span>**  \n",
    "### ***The primary objective of analyzing the Amazon 2023 Product Sales Dataset is to explore category-wise pricing, discount patterns, and customer rating behavior to uncover what drives consumer engagement and purchasing decisions.***  \n",
    "### ***Understand how discounts, actual prices, and customer ratings interact across 140+ product categories to reveal trends that shape consumer trust and buying habits.***  \n",
    "### ***Identify top-performing categories based on customer feedback, pricing competitiveness, and product value perception.***  \n",
    "### ***Translate these insights into actionable recommendations that can guide sellers, marketers, and businesses to optimize product positioning and pricing strategies.***  \n",
    "### ***Equip e-commerce professionals with data-driven understanding to enhance customer satisfaction and improve conversion rates.***  \n",
    "### ***Enable better inventory and promotional planning by highlighting categories with high engagement but low conversion potential.***  \n"
   ]
  },
  {
   "cell_type": "markdown",
   "id": "7c23922a",
   "metadata": {},
   "source": [
    "#### **<h1 align=\"center\"><span style=\"font-family:Inter , sans-serif;color:#ff9900;\">Kernel Version Used</span>**\n",
    "- ***Python 3.12.0***"
   ]
  },
  {
   "cell_type": "markdown",
   "id": "1d0de460",
   "metadata": {},
   "source": [
    "# <p style=\"font-family:Inter , sans-serif;font-size:150%;text-align:center;color:#ff9900;\">Import Libraries</p>\n",
    "### ***We will use the following libraries***\n",
    "### ***1. Pandas: Data manipulation and analysis***\n",
    "### ***2. Numpy: Numerical operations and calculations***\n",
    "### ***3. Matplotlib: Data visualization and plotting***\n",
    "### ***4. Seaborn: Enhanced data visualization and statistical graphics***\n",
    "### ***5. Scipy: Scientific computing and advanced mathematical operations***"
   ]
  },
  {
   "cell_type": "code",
   "execution_count": 1,
   "id": "fb8f543d",
   "metadata": {},
   "outputs": [],
   "source": [
    "import pandas as pd\n",
    "import numpy as np\n",
    "import seaborn as sns \n",
    "import matplotlib.pyplot as plt"
   ]
  },
  {
   "cell_type": "code",
   "execution_count": null,
   "id": "ab3c92be",
   "metadata": {},
   "outputs": [],
   "source": []
  }
 ],
 "metadata": {
  "kernelspec": {
   "display_name": "Python 3",
   "language": "python",
   "name": "python3"
  },
  "language_info": {
   "codemirror_mode": {
    "name": "ipython",
    "version": 3
   },
   "file_extension": ".py",
   "mimetype": "text/x-python",
   "name": "python",
   "nbconvert_exporter": "python",
   "pygments_lexer": "ipython3",
   "version": "3.13.1"
  }
 },
 "nbformat": 4,
 "nbformat_minor": 5
}
