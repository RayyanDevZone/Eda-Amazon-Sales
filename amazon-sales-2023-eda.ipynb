{
 "cells": [
  {
   "cell_type": "markdown",
   "id": "dad535c8",
   "metadata": {},
   "source": [
    "# **<p style=\"font-family:Inter, sans-serif;font-size:150%;text-align:center;color:#ff9900;\">AMAZON SALES DATASET - 2023 EDA</p>**"
   ]
  },
  {
   "cell_type": "markdown",
   "id": "d729bccc",
   "metadata": {},
   "source": [
    "<center>\n",
    "    <img src=\"amazon-eda-image.png\" alt=\"Amazon Sales EDA\" width=\"700\">\n",
    "</center>"
   ]
  },
  {
   "cell_type": "markdown",
   "id": "f8dd9cf2",
   "metadata": {},
   "source": [
    "# **<p style=\"font-family:Inter, sans-serif;font-size:100%;text-align:center;color:#ff9900;\">ABOUT AUTHOR</p>**\n",
    "\n",
    "### ***Project: Amazon Sales Dataset 2023 EDA***\n",
    "\n",
    "---\n",
    "\n",
    "### ***Author: Syed Ahmad Rayyan***\n",
    "***Young Data Science Aspirant and Kaggle Contributor***\n",
    "\n",
    "**Contact:** [Email](mailto:rayyansyed369@gmail.com) | [LinkedIn](https://www.linkedin.com/in/syed-rayyan369) | [GitHub](https://github.com/RayyanDevZone) | [Kaggle](https://www.kaggle.com/syedahmadrayyan)\n",
    "\n",
    "---\n"
   ]
  },
  {
   "cell_type": "markdown",
   "id": "dfd19827",
   "metadata": {},
   "source": [
    "# **<p style=\"font-family:Inter, sans-serif;font-size:100%;text-align:center;color:#ff9900;\">ABOUT DATA</p>**\n",
    "### ***Title: Amazon Sales Dataset - 2023*** \n",
    "### ***Dataset:*** [link](https://www.kaggle.com/datasets/lokeshparab/amazon-products-dataset)\n",
    "\n",
    "#### **<h1 align=\"center\"><span style=\"color:#ff9900;\">Dataset Columns Names</span>**  \n",
    "### ***This dataset is having the data of 1K+ Amazon Products across 140+ categories, scraped from the official Amazon website in 2023. Each CSV file represents a specific product category (like Shoes, Shirts, Yoga, Western Wear, etc.), containing detailed information such as pricing, discounts, ratings, and product links.***\n",
    "\n",
    "## ***Features***  \n",
    "\n",
    "### ***name - The name or title of the product as listed on Amazon***  \n",
    "### ***main_category - The main category under which the product falls (e.g., Fashion, Electronics, Sports, etc.)***  \n",
    "### ***sub_category - The specific subcategory or niche of the product (e.g., Men's Shirts, Yoga Mats, Women's Shoes, etc.)***  \n",
    "### ***image - The direct image link showing how the product looks***  \n",
    "### ***link - The official Amazon product page URL***  \n",
    "### ***ratings - The average customer rating (out of 5) given by verified buyers***  \n",
    "### ***no_of_ratings - The total number of ratings or votes received for the product***  \n",
    "### ***discount_price - The current discounted selling price of the product***  \n",
    "### ***actual_price - The original MRP (before discount) of the product***  \n",
    "### ***source_file - The CSV file name or category source from which this product data was extracted (added during merging for traceability)***  \n",
    "\n"
   ]
  },
  {
   "cell_type": "markdown",
   "id": "97019dce",
   "metadata": {},
   "source": [
    "#### **<h1 align=\"center\"><span style=\"color:#ff9900;\">Task</span>**\n",
    "### ***Exploring the Amazon Sales Dataset - 2023 involves a step-by-step process. First,we join the dataset as its fragmented based on categories, then we clean and prepare the data to ensure it's accurate and consistent. Then, we summarize the data using descriptive statistics like averages and ranges. Next, we visualize the data with charts and graphs to see patterns and relationships. We detect outliers, which are unusual data points, and test our assumptions about the data. We divide the data into groups for better understanding and finally, we summarize our findings and answers some business questions.*** "
   ]
  },
  {
   "cell_type": "markdown",
   "id": "9747976c",
   "metadata": {},
   "source": [
    "#### **<h1 align=\"center\"><span style=\"font-family:Inter , sans-serif;color:#ff9900;\">Objectives</span>**  \n",
    "### ***The primary objective of analyzing the Amazon 2023 Product Sales Dataset is to explore category-wise pricing, discount patterns, and customer rating behavior to uncover what drives consumer engagement and purchasing decisions.***  \n",
    "### ***Understand how discounts, actual prices, and customer ratings interact across 140+ product categories to reveal trends that shape consumer trust and buying habits.***  \n",
    "### ***Identify top-performing categories based on customer feedback, pricing competitiveness, and product value perception.***  \n",
    "### ***Translate these insights into actionable recommendations that can guide sellers, marketers, and businesses to optimize product positioning and pricing strategies.***  \n",
    "### ***Equip e-commerce professionals with data-driven understanding to enhance customer satisfaction and improve conversion rates.***  \n",
    "### ***Enable better inventory and promotional planning by highlighting categories with high engagement but low conversion potential.***  \n"
   ]
  },
  {
   "cell_type": "markdown",
   "id": "7c23922a",
   "metadata": {},
   "source": [
    "#### **<h1 align=\"center\"><span style=\"font-family:Inter , sans-serif;color:#ff9900;\">Kernel Version Used</span>**\n",
    "- ***Python 3.13.1***"
   ]
  },
  {
   "cell_type": "markdown",
   "id": "1d0de460",
   "metadata": {},
   "source": [
    "# <p style=\"font-family:Inter , sans-serif;font-size:150%;text-align:center;color:#ff9900;\">Import Libraries</p>\n",
    "### ***We will use the following libraries***\n",
    "### ***1. Pandas: Data manipulation and analysis***\n",
    "### ***2. Numpy: Numerical operations and calculations***\n",
    "### ***3. Matplotlib: Data visualization and plotting***\n",
    "### ***4. Seaborn: Enhanced data visualization and statistical graphics***\n",
    "### ***5. Scipy: Scientific computing and advanced mathematical operations***\n",
    "### ***6. Glob:  is used to efficiently find all file paths (.csv) in a directory using a pattern, so we don't have to manually list all 140 file names.***\n",
    "### ***7. os: is used to handle file paths in a way that works consistently across different operating systems.***"
   ]
  },
  {
   "cell_type": "code",
   "execution_count": 1,
   "id": "fb8f543d",
   "metadata": {},
   "outputs": [],
   "source": [
    "import pandas as pd\n",
    "import numpy as np\n",
    "import seaborn as sns \n",
    "import matplotlib.pyplot as plt\n",
    "import glob\n",
    "import os"
   ]
  },
  {
   "cell_type": "markdown",
   "id": "e7b6db51",
   "metadata": {},
   "source": [
    "# <p style=\"font-family:Inter, sans-serif;font-size:150%;text-align:center;color:#ff9900;\">Data Loading and Exploration | Cleaning</p>"
   ]
  },
  {
   "cell_type": "markdown",
   "id": "44cc1297",
   "metadata": {},
   "source": [
    "### ***As there are 140 files in the folder, we will use glob to read them all in a loop***"
   ]
  },
  {
   "cell_type": "code",
   "execution_count": 2,
   "id": "33bf4a0c",
   "metadata": {},
   "outputs": [
    {
     "name": "stdout",
     "output_type": "stream",
     "text": [
      "Found 140 files.\n",
      "['dataset\\\\Air Conditioners.csv', 'dataset\\\\All Appliances.csv', 'dataset\\\\All Books.csv', 'dataset\\\\All Car and Motorbike Products.csv', 'dataset\\\\All Electronics.csv']\n"
     ]
    }
   ],
   "source": [
    "path = 'dataset' \n",
    "all_files = glob.glob(os.path.join(path, \"*.csv\"))\n",
    "print(f\"Found {len(all_files)} files.\")\n",
    "print(all_files[:5])"
   ]
  },
  {
   "cell_type": "markdown",
   "id": "4aba5173",
   "metadata": {},
   "source": [
    "### Looping through all files from the folder and reading it using dataframe and appending into one single Dataframe"
   ]
  },
  {
   "cell_type": "code",
   "execution_count": 3,
   "id": "82edc640",
   "metadata": {},
   "outputs": [],
   "source": [
    "\n",
    "df_list = []\n",
    "\n",
    "\n",
    "for file in all_files:\n",
    "    try:\n",
    "        df_internal = pd.read_csv(file)\n",
    "        df_list.append(df_internal)\n",
    "\n",
    "    except Exception as e:\n",
    "        print(f\"Error reading {file}: {e}\")\n",
    "\n",
    "df = pd.concat(df_list, ignore_index=True)"
   ]
  },
  {
   "cell_type": "markdown",
   "id": "c42b53df",
   "metadata": {},
   "source": [
    "#### **<h1 align=\"center\"><span style=\"color:#ff9900;\">Get a sneak peek of data</span>**\n",
    "### ***The purpose of a sneak peek is to get a quick overview of the data and identify any potential problems or areas of interest.***"
   ]
  },
  {
   "cell_type": "code",
   "execution_count": 4,
   "id": "c16375ff",
   "metadata": {},
   "outputs": [
    {
     "data": {
      "text/html": [
       "<div>\n",
       "<style scoped>\n",
       "    .dataframe tbody tr th:only-of-type {\n",
       "        vertical-align: middle;\n",
       "    }\n",
       "\n",
       "    .dataframe tbody tr th {\n",
       "        vertical-align: top;\n",
       "    }\n",
       "\n",
       "    .dataframe thead th {\n",
       "        text-align: right;\n",
       "    }\n",
       "</style>\n",
       "<table border=\"1\" class=\"dataframe\">\n",
       "  <thead>\n",
       "    <tr style=\"text-align: right;\">\n",
       "      <th></th>\n",
       "      <th>name</th>\n",
       "      <th>main_category</th>\n",
       "      <th>sub_category</th>\n",
       "      <th>image</th>\n",
       "      <th>link</th>\n",
       "      <th>ratings</th>\n",
       "      <th>no_of_ratings</th>\n",
       "      <th>discount_price</th>\n",
       "      <th>actual_price</th>\n",
       "    </tr>\n",
       "  </thead>\n",
       "  <tbody>\n",
       "    <tr>\n",
       "      <th>0</th>\n",
       "      <td>Lloyd 1.5 Ton 3 Star Inverter Split Ac (5 In 1...</td>\n",
       "      <td>appliances</td>\n",
       "      <td>Air Conditioners</td>\n",
       "      <td>https://m.media-amazon.com/images/I/31UISB90sY...</td>\n",
       "      <td>https://www.amazon.in/Lloyd-Inverter-Convertib...</td>\n",
       "      <td>4.2</td>\n",
       "      <td>2,255</td>\n",
       "      <td>₹32,999</td>\n",
       "      <td>₹58,990</td>\n",
       "    </tr>\n",
       "    <tr>\n",
       "      <th>1</th>\n",
       "      <td>LG 1.5 Ton 5 Star AI DUAL Inverter Split AC (C...</td>\n",
       "      <td>appliances</td>\n",
       "      <td>Air Conditioners</td>\n",
       "      <td>https://m.media-amazon.com/images/I/51JFb7FctD...</td>\n",
       "      <td>https://www.amazon.in/LG-Convertible-Anti-Viru...</td>\n",
       "      <td>4.2</td>\n",
       "      <td>2,948</td>\n",
       "      <td>₹46,490</td>\n",
       "      <td>₹75,990</td>\n",
       "    </tr>\n",
       "    <tr>\n",
       "      <th>2</th>\n",
       "      <td>LG 1 Ton 4 Star Ai Dual Inverter Split Ac (Cop...</td>\n",
       "      <td>appliances</td>\n",
       "      <td>Air Conditioners</td>\n",
       "      <td>https://m.media-amazon.com/images/I/51JFb7FctD...</td>\n",
       "      <td>https://www.amazon.in/LG-Inverter-Convertible-...</td>\n",
       "      <td>4.2</td>\n",
       "      <td>1,206</td>\n",
       "      <td>₹34,490</td>\n",
       "      <td>₹61,990</td>\n",
       "    </tr>\n",
       "    <tr>\n",
       "      <th>3</th>\n",
       "      <td>LG 1.5 Ton 3 Star AI DUAL Inverter Split AC (C...</td>\n",
       "      <td>appliances</td>\n",
       "      <td>Air Conditioners</td>\n",
       "      <td>https://m.media-amazon.com/images/I/51JFb7FctD...</td>\n",
       "      <td>https://www.amazon.in/LG-Convertible-Anti-Viru...</td>\n",
       "      <td>4.0</td>\n",
       "      <td>69</td>\n",
       "      <td>₹37,990</td>\n",
       "      <td>₹68,990</td>\n",
       "    </tr>\n",
       "    <tr>\n",
       "      <th>4</th>\n",
       "      <td>Carrier 1.5 Ton 3 Star Inverter Split AC (Copp...</td>\n",
       "      <td>appliances</td>\n",
       "      <td>Air Conditioners</td>\n",
       "      <td>https://m.media-amazon.com/images/I/41lrtqXPiW...</td>\n",
       "      <td>https://www.amazon.in/Carrier-Inverter-Split-C...</td>\n",
       "      <td>4.1</td>\n",
       "      <td>630</td>\n",
       "      <td>₹34,490</td>\n",
       "      <td>₹67,790</td>\n",
       "    </tr>\n",
       "  </tbody>\n",
       "</table>\n",
       "</div>"
      ],
      "text/plain": [
       "                                                name main_category  \\\n",
       "0  Lloyd 1.5 Ton 3 Star Inverter Split Ac (5 In 1...    appliances   \n",
       "1  LG 1.5 Ton 5 Star AI DUAL Inverter Split AC (C...    appliances   \n",
       "2  LG 1 Ton 4 Star Ai Dual Inverter Split Ac (Cop...    appliances   \n",
       "3  LG 1.5 Ton 3 Star AI DUAL Inverter Split AC (C...    appliances   \n",
       "4  Carrier 1.5 Ton 3 Star Inverter Split AC (Copp...    appliances   \n",
       "\n",
       "       sub_category                                              image  \\\n",
       "0  Air Conditioners  https://m.media-amazon.com/images/I/31UISB90sY...   \n",
       "1  Air Conditioners  https://m.media-amazon.com/images/I/51JFb7FctD...   \n",
       "2  Air Conditioners  https://m.media-amazon.com/images/I/51JFb7FctD...   \n",
       "3  Air Conditioners  https://m.media-amazon.com/images/I/51JFb7FctD...   \n",
       "4  Air Conditioners  https://m.media-amazon.com/images/I/41lrtqXPiW...   \n",
       "\n",
       "                                                link ratings no_of_ratings  \\\n",
       "0  https://www.amazon.in/Lloyd-Inverter-Convertib...     4.2         2,255   \n",
       "1  https://www.amazon.in/LG-Convertible-Anti-Viru...     4.2         2,948   \n",
       "2  https://www.amazon.in/LG-Inverter-Convertible-...     4.2         1,206   \n",
       "3  https://www.amazon.in/LG-Convertible-Anti-Viru...     4.0            69   \n",
       "4  https://www.amazon.in/Carrier-Inverter-Split-C...     4.1           630   \n",
       "\n",
       "  discount_price actual_price  \n",
       "0        ₹32,999      ₹58,990  \n",
       "1        ₹46,490      ₹75,990  \n",
       "2        ₹34,490      ₹61,990  \n",
       "3        ₹37,990      ₹68,990  \n",
       "4        ₹34,490      ₹67,790  "
      ]
     },
     "execution_count": 4,
     "metadata": {},
     "output_type": "execute_result"
    }
   ],
   "source": [
    "\n",
    "df.drop(columns=['Unnamed: 0'], inplace=True, errors='ignore')\n",
    "\n",
    "df.head()"
   ]
  },
  {
   "cell_type": "markdown",
   "id": "6485badf",
   "metadata": {},
   "source": [
    "#### **<h1 align=\"center\"><span style=\"color:#ff9900;\">Column Names of the Dataset</span>**"
   ]
  },
  {
   "cell_type": "code",
   "execution_count": 5,
   "id": "3b00b69d",
   "metadata": {},
   "outputs": [
    {
     "data": {
      "text/plain": [
       "Index(['name', 'main_category', 'sub_category', 'image', 'link', 'ratings',\n",
       "       'no_of_ratings', 'discount_price', 'actual_price'],\n",
       "      dtype='object')"
      ]
     },
     "execution_count": 5,
     "metadata": {},
     "output_type": "execute_result"
    }
   ],
   "source": [
    "df.columns"
   ]
  },
  {
   "cell_type": "markdown",
   "id": "b541872d",
   "metadata": {},
   "source": [
    "#### **<h1 align=\"center\"><span style=\"color:#ff9900;\">Rows and Columns</span>**\n",
    "### ***Lets see how many total rows and columns the dataset now have after joining all the 140 files***"
   ]
  },
  {
   "cell_type": "code",
   "execution_count": 6,
   "id": "67310eed",
   "metadata": {},
   "outputs": [
    {
     "name": "stdout",
     "output_type": "stream",
     "text": [
      "The Number of Rows are 1103170, and columns are 9.\n"
     ]
    }
   ],
   "source": [
    "print(f\"The Number of Rows are {df.shape[0]}, and columns are {df.shape[1]}.\")"
   ]
  },
  {
   "cell_type": "markdown",
   "id": "e88d64bb",
   "metadata": {},
   "source": [
    "#### **<h1 align=\"center\"><span style=\"color:#ff9900;\">Datatypes</span>**\n",
    "### ***Lets check the datatypes of the columns using .info function***"
   ]
  },
  {
   "cell_type": "code",
   "execution_count": 7,
   "id": "3d33329b",
   "metadata": {},
   "outputs": [
    {
     "name": "stdout",
     "output_type": "stream",
     "text": [
      "<class 'pandas.core.frame.DataFrame'>\n",
      "RangeIndex: 1103170 entries, 0 to 1103169\n",
      "Data columns (total 9 columns):\n",
      " #   Column          Non-Null Count    Dtype \n",
      "---  ------          --------------    ----- \n",
      " 0   name            1103170 non-null  object\n",
      " 1   main_category   1103170 non-null  object\n",
      " 2   sub_category    1103170 non-null  object\n",
      " 3   image           1103170 non-null  object\n",
      " 4   link            1103170 non-null  object\n",
      " 5   ratings         751582 non-null   object\n",
      " 6   no_of_ratings   751582 non-null   object\n",
      " 7   discount_price  980844 non-null   object\n",
      " 8   actual_price    1067544 non-null  object\n",
      "dtypes: object(9)\n",
      "memory usage: 75.7+ MB\n"
     ]
    }
   ],
   "source": [
    "df.info()"
   ]
  },
  {
   "cell_type": "code",
   "execution_count": 8,
   "id": "9e02f342",
   "metadata": {},
   "outputs": [
    {
     "data": {
      "text/plain": [
       "name                   0\n",
       "main_category          0\n",
       "sub_category           0\n",
       "image                  0\n",
       "link                   0\n",
       "ratings           351588\n",
       "no_of_ratings     351588\n",
       "discount_price    122326\n",
       "actual_price       35626\n",
       "dtype: int64"
      ]
     },
     "execution_count": 8,
     "metadata": {},
     "output_type": "execute_result"
    }
   ],
   "source": [
    "df.isnull().sum()"
   ]
  },
  {
   "cell_type": "markdown",
   "id": "8d10dd1f",
   "metadata": {},
   "source": [
    "### ***We can clearly see that we have lot of null values in the Column : ratings,no_of_ratings_discount_price,actual_price***"
   ]
  },
  {
   "cell_type": "markdown",
   "id": "c997df13",
   "metadata": {},
   "source": [
    "#### **<h1 align=\"center\"><span style=\"color:#ff9900;\">Changing Datatypes of Columns</span>**\n",
    "### ***Lets remove the symbols and commas from the price columns and also change their datatype after that***"
   ]
  },
  {
   "cell_type": "code",
   "execution_count": 9,
   "id": "661d5506",
   "metadata": {},
   "outputs": [],
   "source": [
    "df['discount_price'] = df['discount_price'].str.replace('₹', '')\n",
    "df['discount_price'] = df['discount_price'].str.replace(',', '')\n",
    "df['discount_price'] = df['discount_price'].astype(float)"
   ]
  },
  {
   "cell_type": "code",
   "execution_count": 10,
   "id": "f7625c4b",
   "metadata": {},
   "outputs": [],
   "source": [
    "df['actual_price'] = df['actual_price'].str.replace('₹', '')\n",
    "df['actual_price'] = df['actual_price'].str.replace(',', '')\n",
    "df['actual_price'] = df['actual_price'].astype(float)"
   ]
  },
  {
   "cell_type": "code",
   "execution_count": 11,
   "id": "c55d4c8c",
   "metadata": {},
   "outputs": [
    {
     "data": {
      "text/html": [
       "<div>\n",
       "<style scoped>\n",
       "    .dataframe tbody tr th:only-of-type {\n",
       "        vertical-align: middle;\n",
       "    }\n",
       "\n",
       "    .dataframe tbody tr th {\n",
       "        vertical-align: top;\n",
       "    }\n",
       "\n",
       "    .dataframe thead th {\n",
       "        text-align: right;\n",
       "    }\n",
       "</style>\n",
       "<table border=\"1\" class=\"dataframe\">\n",
       "  <thead>\n",
       "    <tr style=\"text-align: right;\">\n",
       "      <th></th>\n",
       "      <th>name</th>\n",
       "      <th>main_category</th>\n",
       "      <th>sub_category</th>\n",
       "      <th>image</th>\n",
       "      <th>link</th>\n",
       "      <th>ratings</th>\n",
       "      <th>no_of_ratings</th>\n",
       "      <th>discount_price</th>\n",
       "      <th>actual_price</th>\n",
       "    </tr>\n",
       "  </thead>\n",
       "  <tbody>\n",
       "    <tr>\n",
       "      <th>0</th>\n",
       "      <td>Lloyd 1.5 Ton 3 Star Inverter Split Ac (5 In 1...</td>\n",
       "      <td>appliances</td>\n",
       "      <td>Air Conditioners</td>\n",
       "      <td>https://m.media-amazon.com/images/I/31UISB90sY...</td>\n",
       "      <td>https://www.amazon.in/Lloyd-Inverter-Convertib...</td>\n",
       "      <td>4.2</td>\n",
       "      <td>2,255</td>\n",
       "      <td>32999.0</td>\n",
       "      <td>58990.0</td>\n",
       "    </tr>\n",
       "    <tr>\n",
       "      <th>1</th>\n",
       "      <td>LG 1.5 Ton 5 Star AI DUAL Inverter Split AC (C...</td>\n",
       "      <td>appliances</td>\n",
       "      <td>Air Conditioners</td>\n",
       "      <td>https://m.media-amazon.com/images/I/51JFb7FctD...</td>\n",
       "      <td>https://www.amazon.in/LG-Convertible-Anti-Viru...</td>\n",
       "      <td>4.2</td>\n",
       "      <td>2,948</td>\n",
       "      <td>46490.0</td>\n",
       "      <td>75990.0</td>\n",
       "    </tr>\n",
       "    <tr>\n",
       "      <th>2</th>\n",
       "      <td>LG 1 Ton 4 Star Ai Dual Inverter Split Ac (Cop...</td>\n",
       "      <td>appliances</td>\n",
       "      <td>Air Conditioners</td>\n",
       "      <td>https://m.media-amazon.com/images/I/51JFb7FctD...</td>\n",
       "      <td>https://www.amazon.in/LG-Inverter-Convertible-...</td>\n",
       "      <td>4.2</td>\n",
       "      <td>1,206</td>\n",
       "      <td>34490.0</td>\n",
       "      <td>61990.0</td>\n",
       "    </tr>\n",
       "    <tr>\n",
       "      <th>3</th>\n",
       "      <td>LG 1.5 Ton 3 Star AI DUAL Inverter Split AC (C...</td>\n",
       "      <td>appliances</td>\n",
       "      <td>Air Conditioners</td>\n",
       "      <td>https://m.media-amazon.com/images/I/51JFb7FctD...</td>\n",
       "      <td>https://www.amazon.in/LG-Convertible-Anti-Viru...</td>\n",
       "      <td>4.0</td>\n",
       "      <td>69</td>\n",
       "      <td>37990.0</td>\n",
       "      <td>68990.0</td>\n",
       "    </tr>\n",
       "    <tr>\n",
       "      <th>4</th>\n",
       "      <td>Carrier 1.5 Ton 3 Star Inverter Split AC (Copp...</td>\n",
       "      <td>appliances</td>\n",
       "      <td>Air Conditioners</td>\n",
       "      <td>https://m.media-amazon.com/images/I/41lrtqXPiW...</td>\n",
       "      <td>https://www.amazon.in/Carrier-Inverter-Split-C...</td>\n",
       "      <td>4.1</td>\n",
       "      <td>630</td>\n",
       "      <td>34490.0</td>\n",
       "      <td>67790.0</td>\n",
       "    </tr>\n",
       "  </tbody>\n",
       "</table>\n",
       "</div>"
      ],
      "text/plain": [
       "                                                name main_category  \\\n",
       "0  Lloyd 1.5 Ton 3 Star Inverter Split Ac (5 In 1...    appliances   \n",
       "1  LG 1.5 Ton 5 Star AI DUAL Inverter Split AC (C...    appliances   \n",
       "2  LG 1 Ton 4 Star Ai Dual Inverter Split Ac (Cop...    appliances   \n",
       "3  LG 1.5 Ton 3 Star AI DUAL Inverter Split AC (C...    appliances   \n",
       "4  Carrier 1.5 Ton 3 Star Inverter Split AC (Copp...    appliances   \n",
       "\n",
       "       sub_category                                              image  \\\n",
       "0  Air Conditioners  https://m.media-amazon.com/images/I/31UISB90sY...   \n",
       "1  Air Conditioners  https://m.media-amazon.com/images/I/51JFb7FctD...   \n",
       "2  Air Conditioners  https://m.media-amazon.com/images/I/51JFb7FctD...   \n",
       "3  Air Conditioners  https://m.media-amazon.com/images/I/51JFb7FctD...   \n",
       "4  Air Conditioners  https://m.media-amazon.com/images/I/41lrtqXPiW...   \n",
       "\n",
       "                                                link ratings no_of_ratings  \\\n",
       "0  https://www.amazon.in/Lloyd-Inverter-Convertib...     4.2         2,255   \n",
       "1  https://www.amazon.in/LG-Convertible-Anti-Viru...     4.2         2,948   \n",
       "2  https://www.amazon.in/LG-Inverter-Convertible-...     4.2         1,206   \n",
       "3  https://www.amazon.in/LG-Convertible-Anti-Viru...     4.0            69   \n",
       "4  https://www.amazon.in/Carrier-Inverter-Split-C...     4.1           630   \n",
       "\n",
       "   discount_price  actual_price  \n",
       "0         32999.0       58990.0  \n",
       "1         46490.0       75990.0  \n",
       "2         34490.0       61990.0  \n",
       "3         37990.0       68990.0  \n",
       "4         34490.0       67790.0  "
      ]
     },
     "execution_count": 11,
     "metadata": {},
     "output_type": "execute_result"
    }
   ],
   "source": [
    "df.head(5)"
   ]
  },
  {
   "cell_type": "markdown",
   "id": "41bb7562",
   "metadata": {},
   "source": [
    "#### **<h1 align=\"center\"><span style=\"color:#ff9900;\">Creating Discount Percent Column</span>**\n",
    "### ***Now we will create discount_percent column but in decimal values to avoid future inconvinience***"
   ]
  },
  {
   "cell_type": "code",
   "execution_count": 12,
   "id": "25be0bb3",
   "metadata": {},
   "outputs": [],
   "source": [
    "df['discount_percent'] = pd.Series(\n",
    "    np.where(\n",
    "        (df['actual_price'].notna()) & (df['discount_price'].notna()) & (df['actual_price'] > 0),\n",
    "        (df['actual_price'] - df['discount_price']) / df['actual_price'],\n",
    "        np.nan\n",
    "    )\n",
    "\n",
    ").clip(lower=0, upper=1)"
   ]
  },
  {
   "cell_type": "code",
   "execution_count": 13,
   "id": "90f48a14",
   "metadata": {},
   "outputs": [
    {
     "data": {
      "text/html": [
       "<div>\n",
       "<style scoped>\n",
       "    .dataframe tbody tr th:only-of-type {\n",
       "        vertical-align: middle;\n",
       "    }\n",
       "\n",
       "    .dataframe tbody tr th {\n",
       "        vertical-align: top;\n",
       "    }\n",
       "\n",
       "    .dataframe thead th {\n",
       "        text-align: right;\n",
       "    }\n",
       "</style>\n",
       "<table border=\"1\" class=\"dataframe\">\n",
       "  <thead>\n",
       "    <tr style=\"text-align: right;\">\n",
       "      <th></th>\n",
       "      <th>name</th>\n",
       "      <th>main_category</th>\n",
       "      <th>sub_category</th>\n",
       "      <th>image</th>\n",
       "      <th>link</th>\n",
       "      <th>ratings</th>\n",
       "      <th>no_of_ratings</th>\n",
       "      <th>discount_price</th>\n",
       "      <th>actual_price</th>\n",
       "      <th>discount_percent</th>\n",
       "    </tr>\n",
       "  </thead>\n",
       "  <tbody>\n",
       "    <tr>\n",
       "      <th>0</th>\n",
       "      <td>Lloyd 1.5 Ton 3 Star Inverter Split Ac (5 In 1...</td>\n",
       "      <td>appliances</td>\n",
       "      <td>Air Conditioners</td>\n",
       "      <td>https://m.media-amazon.com/images/I/31UISB90sY...</td>\n",
       "      <td>https://www.amazon.in/Lloyd-Inverter-Convertib...</td>\n",
       "      <td>4.2</td>\n",
       "      <td>2,255</td>\n",
       "      <td>32999.0</td>\n",
       "      <td>58990.0</td>\n",
       "      <td>0.440600</td>\n",
       "    </tr>\n",
       "    <tr>\n",
       "      <th>1</th>\n",
       "      <td>LG 1.5 Ton 5 Star AI DUAL Inverter Split AC (C...</td>\n",
       "      <td>appliances</td>\n",
       "      <td>Air Conditioners</td>\n",
       "      <td>https://m.media-amazon.com/images/I/51JFb7FctD...</td>\n",
       "      <td>https://www.amazon.in/LG-Convertible-Anti-Viru...</td>\n",
       "      <td>4.2</td>\n",
       "      <td>2,948</td>\n",
       "      <td>46490.0</td>\n",
       "      <td>75990.0</td>\n",
       "      <td>0.388209</td>\n",
       "    </tr>\n",
       "    <tr>\n",
       "      <th>2</th>\n",
       "      <td>LG 1 Ton 4 Star Ai Dual Inverter Split Ac (Cop...</td>\n",
       "      <td>appliances</td>\n",
       "      <td>Air Conditioners</td>\n",
       "      <td>https://m.media-amazon.com/images/I/51JFb7FctD...</td>\n",
       "      <td>https://www.amazon.in/LG-Inverter-Convertible-...</td>\n",
       "      <td>4.2</td>\n",
       "      <td>1,206</td>\n",
       "      <td>34490.0</td>\n",
       "      <td>61990.0</td>\n",
       "      <td>0.443620</td>\n",
       "    </tr>\n",
       "    <tr>\n",
       "      <th>3</th>\n",
       "      <td>LG 1.5 Ton 3 Star AI DUAL Inverter Split AC (C...</td>\n",
       "      <td>appliances</td>\n",
       "      <td>Air Conditioners</td>\n",
       "      <td>https://m.media-amazon.com/images/I/51JFb7FctD...</td>\n",
       "      <td>https://www.amazon.in/LG-Convertible-Anti-Viru...</td>\n",
       "      <td>4.0</td>\n",
       "      <td>69</td>\n",
       "      <td>37990.0</td>\n",
       "      <td>68990.0</td>\n",
       "      <td>0.449340</td>\n",
       "    </tr>\n",
       "    <tr>\n",
       "      <th>4</th>\n",
       "      <td>Carrier 1.5 Ton 3 Star Inverter Split AC (Copp...</td>\n",
       "      <td>appliances</td>\n",
       "      <td>Air Conditioners</td>\n",
       "      <td>https://m.media-amazon.com/images/I/41lrtqXPiW...</td>\n",
       "      <td>https://www.amazon.in/Carrier-Inverter-Split-C...</td>\n",
       "      <td>4.1</td>\n",
       "      <td>630</td>\n",
       "      <td>34490.0</td>\n",
       "      <td>67790.0</td>\n",
       "      <td>0.491223</td>\n",
       "    </tr>\n",
       "  </tbody>\n",
       "</table>\n",
       "</div>"
      ],
      "text/plain": [
       "                                                name main_category  \\\n",
       "0  Lloyd 1.5 Ton 3 Star Inverter Split Ac (5 In 1...    appliances   \n",
       "1  LG 1.5 Ton 5 Star AI DUAL Inverter Split AC (C...    appliances   \n",
       "2  LG 1 Ton 4 Star Ai Dual Inverter Split Ac (Cop...    appliances   \n",
       "3  LG 1.5 Ton 3 Star AI DUAL Inverter Split AC (C...    appliances   \n",
       "4  Carrier 1.5 Ton 3 Star Inverter Split AC (Copp...    appliances   \n",
       "\n",
       "       sub_category                                              image  \\\n",
       "0  Air Conditioners  https://m.media-amazon.com/images/I/31UISB90sY...   \n",
       "1  Air Conditioners  https://m.media-amazon.com/images/I/51JFb7FctD...   \n",
       "2  Air Conditioners  https://m.media-amazon.com/images/I/51JFb7FctD...   \n",
       "3  Air Conditioners  https://m.media-amazon.com/images/I/51JFb7FctD...   \n",
       "4  Air Conditioners  https://m.media-amazon.com/images/I/41lrtqXPiW...   \n",
       "\n",
       "                                                link ratings no_of_ratings  \\\n",
       "0  https://www.amazon.in/Lloyd-Inverter-Convertib...     4.2         2,255   \n",
       "1  https://www.amazon.in/LG-Convertible-Anti-Viru...     4.2         2,948   \n",
       "2  https://www.amazon.in/LG-Inverter-Convertible-...     4.2         1,206   \n",
       "3  https://www.amazon.in/LG-Convertible-Anti-Viru...     4.0            69   \n",
       "4  https://www.amazon.in/Carrier-Inverter-Split-C...     4.1           630   \n",
       "\n",
       "   discount_price  actual_price  discount_percent  \n",
       "0         32999.0       58990.0          0.440600  \n",
       "1         46490.0       75990.0          0.388209  \n",
       "2         34490.0       61990.0          0.443620  \n",
       "3         37990.0       68990.0          0.449340  \n",
       "4         34490.0       67790.0          0.491223  "
      ]
     },
     "execution_count": 13,
     "metadata": {},
     "output_type": "execute_result"
    }
   ],
   "source": [
    "df.head(5)"
   ]
  },
  {
   "cell_type": "code",
   "execution_count": 14,
   "id": "34c20101",
   "metadata": {},
   "outputs": [
    {
     "data": {
      "text/plain": [
       "ratings\n",
       "4.0       71440\n",
       "5.0       64257\n",
       "3.9       52679\n",
       "3.8       49053\n",
       "4.1       48745\n",
       "          ...  \n",
       "1.6           4\n",
       "₹100          2\n",
       "₹68.99        2\n",
       "₹65           2\n",
       "1.1           2\n",
       "Name: count, Length: 93, dtype: int64"
      ]
     },
     "execution_count": 14,
     "metadata": {},
     "output_type": "execute_result"
    }
   ],
   "source": [
    "# Finding unusual string in rating column\n",
    "df['ratings'].value_counts()"
   ]
  },
  {
   "cell_type": "code",
   "execution_count": 15,
   "id": "a2e1b265",
   "metadata": {},
   "outputs": [
    {
     "data": {
      "text/html": [
       "<div>\n",
       "<style scoped>\n",
       "    .dataframe tbody tr th:only-of-type {\n",
       "        vertical-align: middle;\n",
       "    }\n",
       "\n",
       "    .dataframe tbody tr th {\n",
       "        vertical-align: top;\n",
       "    }\n",
       "\n",
       "    .dataframe thead th {\n",
       "        text-align: right;\n",
       "    }\n",
       "</style>\n",
       "<table border=\"1\" class=\"dataframe\">\n",
       "  <thead>\n",
       "    <tr style=\"text-align: right;\">\n",
       "      <th></th>\n",
       "      <th>name</th>\n",
       "      <th>main_category</th>\n",
       "      <th>sub_category</th>\n",
       "      <th>image</th>\n",
       "      <th>link</th>\n",
       "      <th>ratings</th>\n",
       "      <th>no_of_ratings</th>\n",
       "      <th>discount_price</th>\n",
       "      <th>actual_price</th>\n",
       "      <th>discount_percent</th>\n",
       "    </tr>\n",
       "  </thead>\n",
       "  <tbody>\n",
       "    <tr>\n",
       "      <th>85910</th>\n",
       "      <td>Sagwan Row in Brown Color by Artelier</td>\n",
       "      <td>women's shoes</td>\n",
       "      <td>Ballerinas</td>\n",
       "      <td>https://m.media-amazon.com/images/I/61+HIy4jk1...</td>\n",
       "      <td>https://www.amazon.in/Sagwan-Row-Brown-Color-A...</td>\n",
       "      <td>₹68.99</td>\n",
       "      <td>Only 1 left in stock.</td>\n",
       "      <td>NaN</td>\n",
       "      <td>5123.0</td>\n",
       "      <td>NaN</td>\n",
       "    </tr>\n",
       "    <tr>\n",
       "      <th>608743</th>\n",
       "      <td>Sagwan Row in Brown Color by Artelier</td>\n",
       "      <td>women's shoes</td>\n",
       "      <td>Ballerinas</td>\n",
       "      <td>https://m.media-amazon.com/images/I/61+HIy4jk1...</td>\n",
       "      <td>https://www.amazon.in/Sagwan-Row-Brown-Color-A...</td>\n",
       "      <td>₹68.99</td>\n",
       "      <td>Only 1 left in stock.</td>\n",
       "      <td>NaN</td>\n",
       "      <td>5123.0</td>\n",
       "      <td>NaN</td>\n",
       "    </tr>\n",
       "  </tbody>\n",
       "</table>\n",
       "</div>"
      ],
      "text/plain": [
       "                                         name  main_category sub_category  \\\n",
       "85910   Sagwan Row in Brown Color by Artelier  women's shoes   Ballerinas   \n",
       "608743  Sagwan Row in Brown Color by Artelier  women's shoes   Ballerinas   \n",
       "\n",
       "                                                    image  \\\n",
       "85910   https://m.media-amazon.com/images/I/61+HIy4jk1...   \n",
       "608743  https://m.media-amazon.com/images/I/61+HIy4jk1...   \n",
       "\n",
       "                                                     link ratings  \\\n",
       "85910   https://www.amazon.in/Sagwan-Row-Brown-Color-A...  ₹68.99   \n",
       "608743  https://www.amazon.in/Sagwan-Row-Brown-Color-A...  ₹68.99   \n",
       "\n",
       "                no_of_ratings  discount_price  actual_price  discount_percent  \n",
       "85910   Only 1 left in stock.             NaN        5123.0               NaN  \n",
       "608743  Only 1 left in stock.             NaN        5123.0               NaN  "
      ]
     },
     "execution_count": 15,
     "metadata": {},
     "output_type": "execute_result"
    }
   ],
   "source": [
    "#checking the strange row of ratings\n",
    "df.query(\"ratings == '₹68.99'\")"
   ]
  },
  {
   "cell_type": "markdown",
   "id": "6e8f9f24",
   "metadata": {},
   "source": [
    "### ***Counting the rows which have the Rupees symbol in rating column***"
   ]
  },
  {
   "cell_type": "code",
   "execution_count": 16,
   "id": "423432d2",
   "metadata": {},
   "outputs": [
    {
     "name": "stdout",
     "output_type": "stream",
     "text": [
      "Number of rows in 'ratings' containing the '₹' symbol: 48\n"
     ]
    }
   ],
   "source": [
    "rupee_symbol_count = df['ratings'].astype(str).str.contains('₹', na=False).sum()\n",
    "\n",
    "print(f\"Number of rows in 'ratings' containing the '₹' symbol: {rupee_symbol_count}\")"
   ]
  },
  {
   "cell_type": "code",
   "execution_count": 17,
   "id": "f238c1b7",
   "metadata": {},
   "outputs": [
    {
     "name": "stdout",
     "output_type": "stream",
     "text": [
      "--- Data Corruption Cleanup ---\n",
      "Successfully dropped 48 corrupted row(s).\n",
      "New total number of rows: 1103122 (Lost 48 rows).\n",
      "\n",
      "--- Final Data Quality Checks ---\n",
      "1. Data Info:\n",
      "<class 'pandas.core.frame.DataFrame'>\n",
      "RangeIndex: 1103122 entries, 0 to 1103121\n",
      "Data columns (total 10 columns):\n",
      " #   Column            Non-Null Count    Dtype  \n",
      "---  ------            --------------    -----  \n",
      " 0   name              1103122 non-null  object \n",
      " 1   main_category     1103122 non-null  object \n",
      " 2   sub_category      1103122 non-null  object \n",
      " 3   image             1103122 non-null  object \n",
      " 4   link              1103122 non-null  object \n",
      " 5   ratings           751534 non-null   object \n",
      " 6   no_of_ratings     751534 non-null   object \n",
      " 7   discount_price    980798 non-null   float64\n",
      " 8   actual_price      1067496 non-null  float64\n",
      " 9   discount_percent  980798 non-null   float64\n",
      "dtypes: float64(3), object(7)\n",
      "memory usage: 84.2+ MB\n",
      "\n",
      "2. Missing Counts:\n",
      "name                     0\n",
      "main_category            0\n",
      "sub_category             0\n",
      "image                    0\n",
      "link                     0\n",
      "ratings             351588\n",
      "no_of_ratings       351588\n",
      "discount_price      122324\n",
      "actual_price         35626\n",
      "discount_percent    122324\n",
      "dtype: int64\n",
      "\n",
      "3. New Features Head:\n",
      "   actual_price  discount_price  discount_percent ratings\n",
      "0       58990.0         32999.0          0.440600     4.2\n",
      "1       75990.0         46490.0          0.388209     4.2\n",
      "2       61990.0         34490.0          0.443620     4.2\n",
      "3       68990.0         37990.0          0.449340     4.0\n",
      "4       67790.0         34490.0          0.491223     4.1\n"
     ]
    }
   ],
   "source": [
    "# 1. Identify rows where the 'ratings' column contains the '₹' symbol.\n",
    "# We use .astype(str) to safely check the string representation.\n",
    "rows_to_drop_mask = df['ratings'].astype(str).str.contains('₹', na=False, regex=False)\n",
    "\n",
    "# 2. Drop the identified corrupted rows.\n",
    "initial_drop_count = rows_to_drop_mask.sum()\n",
    "initial_row_count = len(df)\n",
    "df = df[~rows_to_drop_mask].copy()\n",
    "\n",
    "# 3. Reset the index and confirm the new size.\n",
    "df = df.reset_index(drop=True)\n",
    "final_row_count = len(df)\n",
    "\n",
    "print(f\"--- Data Corruption Cleanup ---\")\n",
    "print(f\"Successfully dropped {initial_drop_count} corrupted row(s).\")\n",
    "print(f\"New total number of rows: {final_row_count} (Lost {initial_row_count - final_row_count} rows).\")\n",
    "\n",
    "# Final verification checks:\n",
    "print(\"\\n--- Final Data Quality Checks ---\")\n",
    "print(\"1. Data Info:\")\n",
    "df.info()\n",
    "print(\"\\n2. Missing Counts:\")\n",
    "print(df.isnull().sum())\n",
    "print(\"\\n3. New Features Head:\")\n",
    "print(df[['actual_price', 'discount_price', 'discount_percent', 'ratings']].head())"
   ]
  },
  {
   "cell_type": "markdown",
   "id": "80f492c4",
   "metadata": {},
   "source": [
    "### ***Re checking, if there are still any rows with symbol left***"
   ]
  },
  {
   "cell_type": "code",
   "execution_count": 18,
   "id": "7563d962",
   "metadata": {},
   "outputs": [
    {
     "name": "stdout",
     "output_type": "stream",
     "text": [
      "Number of rows in 'ratings' containing the '₹' symbol: 0\n"
     ]
    }
   ],
   "source": [
    "rupee_symbol_count = df['ratings'].astype(str).str.contains('₹', na=False).sum()\n",
    "\n",
    "print(f\"Number of rows in 'ratings' containing the '₹' symbol: {rupee_symbol_count}\")"
   ]
  },
  {
   "cell_type": "code",
   "execution_count": 19,
   "id": "704d692f",
   "metadata": {},
   "outputs": [
    {
     "name": "stdout",
     "output_type": "stream",
     "text": [
      "<class 'pandas.core.frame.DataFrame'>\n",
      "RangeIndex: 1103122 entries, 0 to 1103121\n",
      "Data columns (total 10 columns):\n",
      " #   Column            Non-Null Count    Dtype  \n",
      "---  ------            --------------    -----  \n",
      " 0   name              1103122 non-null  object \n",
      " 1   main_category     1103122 non-null  object \n",
      " 2   sub_category      1103122 non-null  object \n",
      " 3   image             1103122 non-null  object \n",
      " 4   link              1103122 non-null  object \n",
      " 5   ratings           751534 non-null   object \n",
      " 6   no_of_ratings     751534 non-null   object \n",
      " 7   discount_price    980798 non-null   float64\n",
      " 8   actual_price      1067496 non-null  float64\n",
      " 9   discount_percent  980798 non-null   float64\n",
      "dtypes: float64(3), object(7)\n",
      "memory usage: 84.2+ MB\n"
     ]
    }
   ],
   "source": [
    "df.info()"
   ]
  },
  {
   "cell_type": "code",
   "execution_count": 20,
   "id": "e0c7a354",
   "metadata": {},
   "outputs": [],
   "source": [
    "df['ratings'] = pd.to_numeric(df['ratings'], errors='coerce')\n",
    "df['no_of_ratings'] = df['no_of_ratings'].astype(str).str.replace(',', '', regex=False)\n",
    "df['no_of_ratings'] = pd.to_numeric(df['no_of_ratings'], errors='coerce').astype('Int64')\n"
   ]
  },
  {
   "cell_type": "markdown",
   "id": "6883d2a7",
   "metadata": {},
   "source": [
    "#### **<h1 align=\"center\"><span style=\"color:#ff9900;\">Descriptive Statistics</span>**"
   ]
  },
  {
   "cell_type": "code",
   "execution_count": 21,
   "id": "298f4a60",
   "metadata": {},
   "outputs": [
    {
     "data": {
      "text/html": [
       "<div>\n",
       "<style scoped>\n",
       "    .dataframe tbody tr th:only-of-type {\n",
       "        vertical-align: middle;\n",
       "    }\n",
       "\n",
       "    .dataframe tbody tr th {\n",
       "        vertical-align: top;\n",
       "    }\n",
       "\n",
       "    .dataframe thead th {\n",
       "        text-align: right;\n",
       "    }\n",
       "</style>\n",
       "<table border=\"1\" class=\"dataframe\">\n",
       "  <thead>\n",
       "    <tr style=\"text-align: right;\">\n",
       "      <th></th>\n",
       "      <th>ratings</th>\n",
       "      <th>no_of_ratings</th>\n",
       "      <th>discount_price</th>\n",
       "      <th>actual_price</th>\n",
       "      <th>discount_percent</th>\n",
       "    </tr>\n",
       "  </thead>\n",
       "  <tbody>\n",
       "    <tr>\n",
       "      <th>count</th>\n",
       "      <td>739116.000000</td>\n",
       "      <td>739116.0</td>\n",
       "      <td>9.807980e+05</td>\n",
       "      <td>1.067496e+06</td>\n",
       "      <td>980798.000000</td>\n",
       "    </tr>\n",
       "    <tr>\n",
       "      <th>mean</th>\n",
       "      <td>3.832311</td>\n",
       "      <td>840.778698</td>\n",
       "      <td>2.623043e+03</td>\n",
       "      <td>2.311169e+04</td>\n",
       "      <td>0.492568</td>\n",
       "    </tr>\n",
       "    <tr>\n",
       "      <th>std</th>\n",
       "      <td>0.756101</td>\n",
       "      <td>8651.530166</td>\n",
       "      <td>9.458336e+03</td>\n",
       "      <td>1.355112e+07</td>\n",
       "      <td>0.213999</td>\n",
       "    </tr>\n",
       "    <tr>\n",
       "      <th>min</th>\n",
       "      <td>1.000000</td>\n",
       "      <td>1.0</td>\n",
       "      <td>8.000000e+00</td>\n",
       "      <td>0.000000e+00</td>\n",
       "      <td>0.000005</td>\n",
       "    </tr>\n",
       "    <tr>\n",
       "      <th>25%</th>\n",
       "      <td>3.500000</td>\n",
       "      <td>4.0</td>\n",
       "      <td>3.890000e+02</td>\n",
       "      <td>9.900000e+02</td>\n",
       "      <td>0.350250</td>\n",
       "    </tr>\n",
       "    <tr>\n",
       "      <th>50%</th>\n",
       "      <td>3.900000</td>\n",
       "      <td>20.0</td>\n",
       "      <td>6.790000e+02</td>\n",
       "      <td>1.599000e+03</td>\n",
       "      <td>0.501877</td>\n",
       "    </tr>\n",
       "    <tr>\n",
       "      <th>75%</th>\n",
       "      <td>4.300000</td>\n",
       "      <td>133.0</td>\n",
       "      <td>1.399000e+03</td>\n",
       "      <td>2.999000e+03</td>\n",
       "      <td>0.658439</td>\n",
       "    </tr>\n",
       "    <tr>\n",
       "      <th>max</th>\n",
       "      <td>5.000000</td>\n",
       "      <td>589547.0</td>\n",
       "      <td>1.249990e+06</td>\n",
       "      <td>9.900000e+09</td>\n",
       "      <td>1.000000</td>\n",
       "    </tr>\n",
       "  </tbody>\n",
       "</table>\n",
       "</div>"
      ],
      "text/plain": [
       "             ratings  no_of_ratings  discount_price  actual_price  \\\n",
       "count  739116.000000       739116.0    9.807980e+05  1.067496e+06   \n",
       "mean        3.832311     840.778698    2.623043e+03  2.311169e+04   \n",
       "std         0.756101    8651.530166    9.458336e+03  1.355112e+07   \n",
       "min         1.000000            1.0    8.000000e+00  0.000000e+00   \n",
       "25%         3.500000            4.0    3.890000e+02  9.900000e+02   \n",
       "50%         3.900000           20.0    6.790000e+02  1.599000e+03   \n",
       "75%         4.300000          133.0    1.399000e+03  2.999000e+03   \n",
       "max         5.000000       589547.0    1.249990e+06  9.900000e+09   \n",
       "\n",
       "       discount_percent  \n",
       "count     980798.000000  \n",
       "mean           0.492568  \n",
       "std            0.213999  \n",
       "min            0.000005  \n",
       "25%            0.350250  \n",
       "50%            0.501877  \n",
       "75%            0.658439  \n",
       "max            1.000000  "
      ]
     },
     "execution_count": 21,
     "metadata": {},
     "output_type": "execute_result"
    }
   ],
   "source": [
    "df.describe()"
   ]
  },
  {
   "cell_type": "markdown",
   "id": "95c7c114",
   "metadata": {},
   "source": [
    "## <p style=\"font-family:Inter,sans-serif;font-size:150%;text-align:center;color:#ff9900;\">Progress Till Now!</p>\n",
    "- ***All columns data type was object So, I converted some column data type to float.***\n",
    "- ***There are 5 numeric as per Python coding or descriptive statistics from Python describe function***\n",
    "---"
   ]
  },
  {
   "cell_type": "markdown",
   "id": "c6284f42",
   "metadata": {},
   "source": [
    "## <p style=\"font-family:Inter,sans-serif;font-size:150%;text-align:center;color:#ff9900;\">Dealing with missing values</p>\n",
    "- ***This is a major step in the Data Wrangling process.***\n",
    "- ***This is going to be tricky as we can already see that ,dataset being so big, the number of missing values in Columns like ratings,no_of_ratings,actual_price,discount_price and discount_percent***\n"
   ]
  },
  {
   "cell_type": "markdown",
   "id": "4eaccae4",
   "metadata": {},
   "source": [
    "## <p style=\"font-family:Inter,sans-serif;font-size:150%;text-align:center;color:#ff9900;\">Missing Values</p>"
   ]
  },
  {
   "cell_type": "code",
   "execution_count": 22,
   "id": "1cf7cee1",
   "metadata": {},
   "outputs": [
    {
     "data": {
      "text/plain": [
       "no_of_ratings       364006\n",
       "ratings             364006\n",
       "discount_price      122324\n",
       "discount_percent    122324\n",
       "actual_price         35626\n",
       "name                     0\n",
       "main_category            0\n",
       "link                     0\n",
       "sub_category             0\n",
       "image                    0\n",
       "dtype: int64"
      ]
     },
     "execution_count": 22,
     "metadata": {},
     "output_type": "execute_result"
    }
   ],
   "source": [
    "df.isnull().sum().sort_values(ascending=False)"
   ]
  },
  {
   "cell_type": "markdown",
   "id": "af6d93d9",
   "metadata": {},
   "source": [
    "## <p style=\"font-family:Inter,sans-serif;font-size:150%;text-align:center;color:#ff9900;\">Cleaning Conclusion</p>"
   ]
  },
  {
   "cell_type": "code",
   "execution_count": 23,
   "id": "e5c5d80f",
   "metadata": {},
   "outputs": [
    {
     "name": "stdout",
     "output_type": "stream",
     "text": [
      "Percentage of empty 'ratings': 33.00%\n",
      "Percentage of empty 'discount_percent': 11.09%\n",
      "Percentage of empty 'actual_price': 3.23%\n"
     ]
    }
   ],
   "source": [
    "empty_ratings_percent = (df['ratings'].isnull().sum() / len(df)) * 100\n",
    "print(f\"Percentage of empty 'ratings': {empty_ratings_percent:.2f}%\")\n",
    "empty_discount_percent = (df['discount_percent'].isnull().sum() / len(df)) * 100\n",
    "print(f\"Percentage of empty 'discount_percent': {empty_discount_percent:.2f}%\")\n",
    "empty_actual_price_percent = (df['actual_price'].isnull().sum() / len(df)) * 100\n",
    "print(f\"Percentage of empty 'actual_price': {empty_actual_price_percent:.2f}%\")"
   ]
  },
  {
   "cell_type": "markdown",
   "id": "0ed28196",
   "metadata": {},
   "source": [
    "### So the conclusion is :\n",
    "***The large counts of missing ratings and discount prices are not a problem; they are valuable business information indicating:***\n",
    "\n",
    "***33% of products are unrated. New or slow-moving items***\n",
    "\n",
    "***11% of products have no discount offered. Full-price items***"
   ]
  },
  {
   "cell_type": "markdown",
   "id": "605c4347",
   "metadata": {},
   "source": [
    "## <p style=\"font-family:Inter,sans-serif;font-size:150%;text-align:center;color:#ff9900;\">Plot the Missing values</p>"
   ]
  },
  {
   "cell_type": "code",
   "execution_count": 24,
   "id": "5e45e0f3",
   "metadata": {},
   "outputs": [
    {
     "name": "stdout",
     "output_type": "stream",
     "text": [
      "--- Data for Missing Percentage Bar Chart ---\n",
      "                  Missing Percentage\n",
      "Column                              \n",
      "ratings                    32.997801\n",
      "no_of_ratings              32.997801\n",
      "discount_price             11.088891\n",
      "discount_percent           11.088891\n",
      "actual_price                3.229561\n"
     ]
    }
   ],
   "source": [
    "total_rows = len(df)\n",
    "\n",
    "# List the key columns we care about\n",
    "key_columns = [\n",
    "    'ratings',\n",
    "    'no_of_ratings',\n",
    "    'discount_price',\n",
    "    'actual_price',\n",
    "    'discount_percent'\n",
    "]\n",
    "\n",
    "# Calculate the missing percentage for each column\n",
    "missing_percentage = pd.Series({\n",
    "    col: (df[col].isnull().sum() / total_rows) * 100\n",
    "    for col in key_columns\n",
    "})\n",
    "\n",
    "# Convert to DataFrame for plotting\n",
    "missing_df = missing_percentage.to_frame(name='Missing Percentage')\n",
    "missing_df.index.name = 'Column'\n",
    "\n",
    "# Sort for plotting (largest percentage first)\n",
    "missing_df = missing_df.sort_values(by='Missing Percentage', ascending=False)\n",
    "\n",
    "print(\"--- Data for Missing Percentage Bar Chart ---\")\n",
    "print(missing_df)"
   ]
  },
  {
   "cell_type": "code",
   "execution_count": 25,
   "id": "3e3e0aa6",
   "metadata": {},
   "outputs": [
    {
     "data": {
      "image/png": "[encoded data removed]",
      "text/plain": [
       "<Figure size 1000x600 with 1 Axes>"
      ]
     },
     "metadata": {},
     "output_type": "display_data"
    }
   ],
   "source": [
    "data = {\n",
    "    'Column': ['ratings', 'no_of_ratings', 'discount_price', 'discount_percent', 'actual_price'],\n",
    "    'Missing Percentage': [32.997801, 32.997801, 11.088891, 11.088891, 3.229561]\n",
    "}\n",
    "missing_df = pd.DataFrame(data)\n",
    "\n",
    "# Sort the data by missing percentage (descending)\n",
    "missing_df = missing_df.sort_values(by='Missing Percentage', ascending=False).reset_index(drop=True)\n",
    "\n",
    "# Define distinct colors for the different segments (Ratings, Discount, Price)\n",
    "colors = ['#4A90E2', '#4A90E2', '#7ED321', '#7ED321', '#F5A623']\n",
    "\n",
    "# 2. Create the Bar Plot\n",
    "plt.figure(figsize=(10, 6))\n",
    "bars = plt.bar(\n",
    "    missing_df['Column'],\n",
    "    missing_df['Missing Percentage'],\n",
    "    color=colors,\n",
    "    width=0.7 \n",
    ")\n",
    "\n",
    "# 3. Add Labels, Title, and Formatting\n",
    "plt.title('Missing Value Percentage by Key Column (N=1.1M)', fontsize=16, pad=15)\n",
    "plt.xlabel('Analytical Column', fontsize=12)\n",
    "plt.ylabel('Missing Percentage (%)', fontsize=12)\n",
    "plt.ylim(0, 40) # Set Y-limit to provide context for the 33% bar\n",
    "plt.grid(axis='y', linestyle='--', alpha=0.6)\n",
    "\n",
    "# Add exact percentage labels on top of the bars\n",
    "for bar in bars:\n",
    "    yval = bar.get_height()\n",
    "    plt.text(\n",
    "        bar.get_x() + bar.get_width() / 2,\n",
    "        yval + 0.5, # Position the text slightly above the bar\n",
    "        f'{yval:.1f}%', # Format to one decimal place\n",
    "        ha='center',\n",
    "        va='bottom',\n",
    "        fontsize=10,\n",
    "        fontweight='bold'\n",
    "    )\n",
    "\n",
    "plt.xticks(rotation=45, ha='right') # Rotate column names for readability\n",
    "plt.tight_layout() # Adjust layout to prevent labels from cutting off\n",
    "\n",
    "\n",
    "plt.show()"
   ]
  },
  {
   "cell_type": "markdown",
   "id": "63da8ad3",
   "metadata": {},
   "source": [
    "## <p style=\"font-family:Inter,sans-serif;font-size:150%;text-align:center;color:#ff9900;\">Heatmap</p>\n",
    "***The use heatmap here is to show the correlation between rating and discount_price column***"
   ]
  },
  {
   "cell_type": "code",
   "execution_count": 26,
   "id": "0ddc134e",
   "metadata": {},
   "outputs": [
    {
     "data": {
      "image/png": "[encoded data removed]",
      "text/plain": [
       "<Figure size 800x600 with 2 Axes>"
      ]
     },
     "metadata": {},
     "output_type": "display_data"
    }
   ],
   "source": [
    "missing_cols = ['ratings', 'no_of_ratings', 'discount_price', 'actual_price', 'discount_percent']\n",
    "\n",
    "# 2. Create a DataFrame where 1 = Not Missing (Present) and 0 = Missing (NaN)\n",
    "missing_presence_df = df[missing_cols].notna().astype(int)\n",
    "\n",
    "# 3. Calculate the correlation matrix of this presence data\n",
    "# This tells you the correlation between the presence of data in column A and column B.\n",
    "missing_correlation_matrix = missing_presence_df.corr()\n",
    "\n",
    "# 4. Plot the Heatmap\n",
    "plt.figure(figsize=(8, 6))\n",
    "sns.heatmap(\n",
    "    missing_correlation_matrix,\n",
    "    annot=True,          # Show the correlation value on the map\n",
    "    cmap='viridis',      # Use a visually appealing colormap\n",
    "    fmt=\".2f\",           # Format the correlation to 2 decimal places\n",
    "    linewidths=.5,       # Add lines between cells\n",
    "    cbar_kws={'label': 'Correlation of Data Presence'}\n",
    ")\n",
    "\n",
    "plt.title('Correlation of Data Presence (Missingness)', fontsize=14)\n",
    "plt.xticks(rotation=45, ha='right')\n",
    "plt.yticks(rotation=0)\n",
    "plt.tight_layout()\n",
    "plt.show()"
   ]
  },
  {
   "cell_type": "markdown",
   "id": "593d6504",
   "metadata": {},
   "source": [
    "***As the Missing values of few columns like ratings and no_of_ratings are on the higher side***<br/>\n",
    "***So we will avoid imputing the missing values to maintain data integrity***<br/>\n",
    "***As due to imputation a bad product can get good rating and vice versa***<br/>"
   ]
  },
  {
   "cell_type": "markdown",
   "id": "0ff7c156",
   "metadata": {},
   "source": [
    "### ***But we will impute na values in actual_price column based on its category and sub_category***\n",
    "***As the percentage of missing vals in this col is low***<br/>\n",
    "***So it will add less biasness in the data***"
   ]
  },
  {
   "cell_type": "code",
   "execution_count": 27,
   "id": "fe69e6f1",
   "metadata": {},
   "outputs": [
    {
     "name": "stdout",
     "output_type": "stream",
     "text": [
      "Final Missing Count in actual_price after imputation: 0\n"
     ]
    }
   ],
   "source": [
    "# 1. Calculate the median actual price for every unique sub_category\n",
    "median_price_by_sub_category = df.groupby('sub_category')['actual_price'].transform('median')\n",
    "\n",
    "df['actual_price'] = df['actual_price'].fillna(median_price_by_sub_category)\n",
    "\n",
    "# 3. Quick check to confirm the missing count is zero (or nearly zero)\n",
    "print(f\"Final Missing Count in actual_price after imputation: {df['actual_price'].isnull().sum()}\")"
   ]
  },
  {
   "cell_type": "markdown",
   "id": "a2ecef2e",
   "metadata": {},
   "source": [
    "## ***Milestone 1: We have cleaned the dataset from null values***\n",
    "---"
   ]
  },
  {
   "cell_type": "markdown",
   "id": "b3fa280d",
   "metadata": {},
   "source": [
    "## <p style=\"font-family:Inter,sans-serif;font-size:150%;text-align:center;color:#ff9900;\">Finding The Duplicates</p>\n",
    "### ***Removing duplicates is one of the most important part of the data wrangling process, we must remove the duplicates in order to get the correct insights from the data.***\n",
    "### ***If you do not remove duplicates from a dataset, it can lead to incorrect insights and analysis.***\n",
    "### ***Duplicates can skew statistical measures such as mean, median, and standard deviation, and can also lead to over-representation of certain data points.***\n",
    "### ***It is important to remove duplicates to ensure the accuracy and reliability of your data analysis.***"
   ]
  },
  {
   "cell_type": "code",
   "execution_count": 28,
   "id": "05323a9e",
   "metadata": {},
   "outputs": [
    {
     "data": {
      "text/plain": [
       "np.True_"
      ]
     },
     "execution_count": 28,
     "metadata": {},
     "output_type": "execute_result"
    }
   ],
   "source": [
    "df.duplicated().any()"
   ]
  },
  {
   "cell_type": "code",
   "execution_count": null,
   "id": "ff68866a",
   "metadata": {},
   "outputs": [
    {
     "name": "stdout",
     "output_type": "stream",
     "text": [
      "Total number of duplicate rows (to be removed): 551561\n"
     ]
    }
   ],
   "source": [
    "total_duplicate_rows = df.duplicated().sum()\n",
    "\n",
    "print(f\"Total number of duplicate rows (to be removed): {total_duplicate_rows}\")"
   ]
  },
  {
   "cell_type": "code",
   "execution_count": 31,
   "id": "eb2d03cf",
   "metadata": {},
   "outputs": [
    {
     "name": "stdout",
     "output_type": "stream",
     "text": [
      "--- Duplicate Removal Complete ---\n",
      "Initial Rows: 1103122\n",
      "Duplicates Removed: 551561\n",
      "Final Rows after Cleanup: 551561\n"
     ]
    }
   ],
   "source": [
    "import pandas as pd\n",
    "\n",
    "# --- 1. DROP DUPLICATES (The 551,561 rows) ---\n",
    "initial_rows = len(df)\n",
    "df.drop_duplicates(inplace=True)\n",
    "duplicates_removed = initial_rows - len(df)\n",
    "\n",
    "print(f\"--- Duplicate Removal Complete ---\")\n",
    "print(f\"Initial Rows: {initial_rows}\")\n",
    "print(f\"Duplicates Removed: {duplicates_removed}\")\n",
    "print(f\"Final Rows after Cleanup: {len(df)}\")"
   ]
  }
 ],
 "metadata": {
  "kernelspec": {
   "display_name": "Python 3",
   "language": "python",
   "name": "python3"
  },
  "language_info": {
   "codemirror_mode": {
    "name": "ipython",
    "version": 3
   },
   "file_extension": ".py",
   "mimetype": "text/x-python",
   "name": "python",
   "nbconvert_exporter": "python",
   "pygments_lexer": "ipython3",
   "version": "3.13.1"
  }
 },
 "nbformat": 4,
 "nbformat_minor": 5
}
