{
 "cells": [
  {
   "cell_type": "markdown",
   "id": "dad535c8",
   "metadata": {},
   "source": [
    "# **<p style=\"font-family:Inter, sans-serif;font-size:150%;text-align:center;color:#ff9900;\">AMAZON SALES DATASET - 2023 EDA</p>**"
   ]
  },
  {
   "cell_type": "markdown",
   "id": "d729bccc",
   "metadata": {},
   "source": [
    "<center>\n",
    "    <img src=\"amazon-eda-image.png\" alt=\"Amazon Sales EDA\" width=\"700\">\n",
    "</center>"
   ]
  },
  {
   "cell_type": "markdown",
   "id": "f8dd9cf2",
   "metadata": {},
   "source": [
    "# **<p style=\"font-family:Inter, sans-serif;font-size:100%;text-align:center;color:#ff9900;\">ABOUT AUTHOR</p>**\n",
    "\n",
    "### ***Project: Amazon Sales Dataset 2023 EDA***\n",
    "\n",
    "---\n",
    "\n",
    "### ***Author: Syed Ahmad Rayyan***\n",
    "***Young Data Science Aspirant and Kaggle Contributor***\n",
    "\n",
    "**Contact:** [Email](mailto:rayyansyed369@gmail.com) | [LinkedIn](https://www.linkedin.com/in/syed-rayyan369) | [GitHub](https://github.com/RayyanDevZone) | [Kaggle](https://www.kaggle.com/syedahmadrayyan)\n",
    "\n",
    "---\n"
   ]
  },
  {
   "cell_type": "markdown",
   "id": "dfd19827",
   "metadata": {},
   "source": [
    "# **<p style=\"font-family:Inter, sans-serif;font-size:100%;text-align:center;color:#ff9900;\">ABOUT DATA</p>**\n",
    "### ***Title: Amazon Sales Dataset - 2023*** \n",
    "### ***Dataset:*** [link](https://www.kaggle.com/datasets/lokeshparab/amazon-products-dataset)\n",
    "\n",
    "#### **<h1 align=\"center\"><span style=\"color:#ff9900;\">Dataset Columns Names</span>**  \n",
    "### ***This dataset is having the data of 1K+ Amazon Products across 140+ categories, scraped from the official Amazon website in 2023. Each CSV file represents a specific product category (like Shoes, Shirts, Yoga, Western Wear, etc.), containing detailed information such as pricing, discounts, ratings, and product links.***\n",
    "\n",
    "## ***Features***  \n",
    "\n",
    "### ***name - The name or title of the product as listed on Amazon***  \n",
    "### ***main_category - The main category under which the product falls (e.g., Fashion, Electronics, Sports, etc.)***  \n",
    "### ***sub_category - The specific subcategory or niche of the product (e.g., Men's Shirts, Yoga Mats, Women's Shoes, etc.)***  \n",
    "### ***image - The direct image link showing how the product looks***  \n",
    "### ***link - The official Amazon product page URL***  \n",
    "### ***ratings - The average customer rating (out of 5) given by verified buyers***  \n",
    "### ***no_of_ratings - The total number of ratings or votes received for the product***  \n",
    "### ***discount_price - The current discounted selling price of the product***  \n",
    "### ***actual_price - The original MRP (before discount) of the product***  \n",
    "### ***source_file - The CSV file name or category source from which this product data was extracted (added during merging for traceability)***  \n",
    "\n"
   ]
  },
  {
   "cell_type": "markdown",
   "id": "97019dce",
   "metadata": {},
   "source": [
    "#### **<h1 align=\"center\"><span style=\"color:#ff9900;\">Task</span>**\n",
    "### ***Exploring the Amazon Sales Dataset - 2023 involves a step-by-step process. First,we join the dataset as its fragmented based on categories, then we clean and prepare the data to ensure it's accurate and consistent. Then, we summarize the data using descriptive statistics like averages and ranges. Next, we visualize the data with charts and graphs to see patterns and relationships. We detect outliers, which are unusual data points, and test our assumptions about the data. We divide the data into groups for better understanding and finally, we summarize our findings and answers some business questions.*** "
   ]
  },
  {
   "cell_type": "markdown",
   "id": "9747976c",
   "metadata": {},
   "source": [
    "#### **<h1 align=\"center\"><span style=\"font-family:Inter , sans-serif;color:#ff9900;\">Objectives</span>**  \n",
    "### ***The primary objective of analyzing the Amazon 2023 Product Sales Dataset is to explore category-wise pricing, discount patterns, and customer rating behavior to uncover what drives consumer engagement and purchasing decisions.***  \n",
    "### ***Understand how discounts, actual prices, and customer ratings interact across 140+ product categories to reveal trends that shape consumer trust and buying habits.***  \n",
    "### ***Identify top-performing categories based on customer feedback, pricing competitiveness, and product value perception.***  \n",
    "### ***Translate these insights into actionable recommendations that can guide sellers, marketers, and businesses to optimize product positioning and pricing strategies.***  \n",
    "### ***Equip e-commerce professionals with data-driven understanding to enhance customer satisfaction and improve conversion rates.***  \n",
    "### ***Enable better inventory and promotional planning by highlighting categories with high engagement but low conversion potential.***  \n"
   ]
  },
  {
   "cell_type": "markdown",
   "id": "7c23922a",
   "metadata": {},
   "source": [
    "#### **<h1 align=\"center\"><span style=\"font-family:Inter , sans-serif;color:#ff9900;\">Kernel Version Used</span>**\n",
    "- ***Python 3.12.0***"
   ]
  },
  {
   "cell_type": "markdown",
   "id": "1d0de460",
   "metadata": {},
   "source": [
    "# <p style=\"font-family:Inter , sans-serif;font-size:150%;text-align:center;color:#ff9900;\">Import Libraries</p>\n",
    "### ***We will use the following libraries***\n",
    "### ***1. Pandas: Data manipulation and analysis***\n",
    "### ***2. Numpy: Numerical operations and calculations***\n",
    "### ***3. Matplotlib: Data visualization and plotting***\n",
    "### ***4. Seaborn: Enhanced data visualization and statistical graphics***\n",
    "### ***5. Scipy: Scientific computing and advanced mathematical operations***\n",
    "### ***6. Glob:  is used to efficiently find all file paths (.csv) in a directory using a pattern, so we don't have to manually list all 140 file names.***\n",
    "### ***7. os: is used to handle file paths in a way that works consistently across different operating systems.***"
   ]
  },
  {
   "cell_type": "code",
   "execution_count": 29,
   "id": "fb8f543d",
   "metadata": {},
   "outputs": [],
   "source": [
    "import pandas as pd\n",
    "import numpy as np\n",
    "import seaborn as sns \n",
    "import matplotlib.pyplot as plt\n",
    "import glob\n",
    "import os"
   ]
  },
  {
   "cell_type": "markdown",
   "id": "e7b6db51",
   "metadata": {},
   "source": [
    "# <p style=\"font-family:Inter, sans-serif;font-size:150%;text-align:center;color:#ff9900;\">Data Loading and Exploration | Cleaning</p>"
   ]
  },
  {
   "cell_type": "markdown",
   "id": "44cc1297",
   "metadata": {},
   "source": [
    "### ***As there are 140 files in the folder, we will use glob to read them all in a loop***"
   ]
  },
  {
   "cell_type": "code",
   "execution_count": 30,
   "id": "33bf4a0c",
   "metadata": {},
   "outputs": [
    {
     "name": "stdout",
     "output_type": "stream",
     "text": [
      "Found 140 files.\n",
      "['dataset\\\\Air Conditioners.csv', 'dataset\\\\All Appliances.csv', 'dataset\\\\All Books.csv', 'dataset\\\\All Car and Motorbike Products.csv', 'dataset\\\\All Electronics.csv']\n"
     ]
    }
   ],
   "source": [
    "path = 'dataset' \n",
    "all_files = glob.glob(os.path.join(path, \"*.csv\"))\n",
    "print(f\"Found {len(all_files)} files.\")\n",
    "print(all_files[:5])"
   ]
  },
  {
   "cell_type": "markdown",
   "id": "4aba5173",
   "metadata": {},
   "source": [
    "### Looping through all files from the folder and reading it using dataframe and appending into one single Dataframe"
   ]
  },
  {
   "cell_type": "code",
   "execution_count": 31,
   "id": "82edc640",
   "metadata": {},
   "outputs": [],
   "source": [
    "\n",
    "df_list = []\n",
    "\n",
    "\n",
    "for file in all_files:\n",
    "    try:\n",
    "        df_internal = pd.read_csv(file)\n",
    "        df_list.append(df_internal)\n",
    "\n",
    "    except Exception as e:\n",
    "        print(f\"Error reading {file}: {e}\")\n",
    "\n",
    "df = pd.concat(df_list, ignore_index=True)"
   ]
  },
  {
   "cell_type": "markdown",
   "id": "c42b53df",
   "metadata": {},
   "source": [
    "#### **<h1 align=\"center\"><span style=\"color:#ff9900;\">Get a sneak peek of data</span>**\n",
    "### ***The purpose of a sneak peek is to get a quick overview of the data and identify any potential problems or areas of interest.***"
   ]
  },
  {
   "cell_type": "code",
   "execution_count": 32,
   "id": "c16375ff",
   "metadata": {},
   "outputs": [
    {
     "data": {
      "text/html": [
       "<div>\n",
       "<style scoped>\n",
       "    .dataframe tbody tr th:only-of-type {\n",
       "        vertical-align: middle;\n",
       "    }\n",
       "\n",
       "    .dataframe tbody tr th {\n",
       "        vertical-align: top;\n",
       "    }\n",
       "\n",
       "    .dataframe thead th {\n",
       "        text-align: right;\n",
       "    }\n",
       "</style>\n",
       "<table border=\"1\" class=\"dataframe\">\n",
       "  <thead>\n",
       "    <tr style=\"text-align: right;\">\n",
       "      <th></th>\n",
       "      <th>name</th>\n",
       "      <th>main_category</th>\n",
       "      <th>sub_category</th>\n",
       "      <th>image</th>\n",
       "      <th>link</th>\n",
       "      <th>ratings</th>\n",
       "      <th>no_of_ratings</th>\n",
       "      <th>discount_price</th>\n",
       "      <th>actual_price</th>\n",
       "    </tr>\n",
       "  </thead>\n",
       "  <tbody>\n",
       "    <tr>\n",
       "      <th>0</th>\n",
       "      <td>Lloyd 1.5 Ton 3 Star Inverter Split Ac (5 In 1...</td>\n",
       "      <td>appliances</td>\n",
       "      <td>Air Conditioners</td>\n",
       "      <td>https://m.media-amazon.com/images/I/31UISB90sY...</td>\n",
       "      <td>https://www.amazon.in/Lloyd-Inverter-Convertib...</td>\n",
       "      <td>4.2</td>\n",
       "      <td>2,255</td>\n",
       "      <td>₹32,999</td>\n",
       "      <td>₹58,990</td>\n",
       "    </tr>\n",
       "    <tr>\n",
       "      <th>1</th>\n",
       "      <td>LG 1.5 Ton 5 Star AI DUAL Inverter Split AC (C...</td>\n",
       "      <td>appliances</td>\n",
       "      <td>Air Conditioners</td>\n",
       "      <td>https://m.media-amazon.com/images/I/51JFb7FctD...</td>\n",
       "      <td>https://www.amazon.in/LG-Convertible-Anti-Viru...</td>\n",
       "      <td>4.2</td>\n",
       "      <td>2,948</td>\n",
       "      <td>₹46,490</td>\n",
       "      <td>₹75,990</td>\n",
       "    </tr>\n",
       "    <tr>\n",
       "      <th>2</th>\n",
       "      <td>LG 1 Ton 4 Star Ai Dual Inverter Split Ac (Cop...</td>\n",
       "      <td>appliances</td>\n",
       "      <td>Air Conditioners</td>\n",
       "      <td>https://m.media-amazon.com/images/I/51JFb7FctD...</td>\n",
       "      <td>https://www.amazon.in/LG-Inverter-Convertible-...</td>\n",
       "      <td>4.2</td>\n",
       "      <td>1,206</td>\n",
       "      <td>₹34,490</td>\n",
       "      <td>₹61,990</td>\n",
       "    </tr>\n",
       "    <tr>\n",
       "      <th>3</th>\n",
       "      <td>LG 1.5 Ton 3 Star AI DUAL Inverter Split AC (C...</td>\n",
       "      <td>appliances</td>\n",
       "      <td>Air Conditioners</td>\n",
       "      <td>https://m.media-amazon.com/images/I/51JFb7FctD...</td>\n",
       "      <td>https://www.amazon.in/LG-Convertible-Anti-Viru...</td>\n",
       "      <td>4.0</td>\n",
       "      <td>69</td>\n",
       "      <td>₹37,990</td>\n",
       "      <td>₹68,990</td>\n",
       "    </tr>\n",
       "    <tr>\n",
       "      <th>4</th>\n",
       "      <td>Carrier 1.5 Ton 3 Star Inverter Split AC (Copp...</td>\n",
       "      <td>appliances</td>\n",
       "      <td>Air Conditioners</td>\n",
       "      <td>https://m.media-amazon.com/images/I/41lrtqXPiW...</td>\n",
       "      <td>https://www.amazon.in/Carrier-Inverter-Split-C...</td>\n",
       "      <td>4.1</td>\n",
       "      <td>630</td>\n",
       "      <td>₹34,490</td>\n",
       "      <td>₹67,790</td>\n",
       "    </tr>\n",
       "  </tbody>\n",
       "</table>\n",
       "</div>"
      ],
      "text/plain": [
       "                                                name main_category  \\\n",
       "0  Lloyd 1.5 Ton 3 Star Inverter Split Ac (5 In 1...    appliances   \n",
       "1  LG 1.5 Ton 5 Star AI DUAL Inverter Split AC (C...    appliances   \n",
       "2  LG 1 Ton 4 Star Ai Dual Inverter Split Ac (Cop...    appliances   \n",
       "3  LG 1.5 Ton 3 Star AI DUAL Inverter Split AC (C...    appliances   \n",
       "4  Carrier 1.5 Ton 3 Star Inverter Split AC (Copp...    appliances   \n",
       "\n",
       "       sub_category                                              image  \\\n",
       "0  Air Conditioners  https://m.media-amazon.com/images/I/31UISB90sY...   \n",
       "1  Air Conditioners  https://m.media-amazon.com/images/I/51JFb7FctD...   \n",
       "2  Air Conditioners  https://m.media-amazon.com/images/I/51JFb7FctD...   \n",
       "3  Air Conditioners  https://m.media-amazon.com/images/I/51JFb7FctD...   \n",
       "4  Air Conditioners  https://m.media-amazon.com/images/I/41lrtqXPiW...   \n",
       "\n",
       "                                                link ratings no_of_ratings  \\\n",
       "0  https://www.amazon.in/Lloyd-Inverter-Convertib...     4.2         2,255   \n",
       "1  https://www.amazon.in/LG-Convertible-Anti-Viru...     4.2         2,948   \n",
       "2  https://www.amazon.in/LG-Inverter-Convertible-...     4.2         1,206   \n",
       "3  https://www.amazon.in/LG-Convertible-Anti-Viru...     4.0            69   \n",
       "4  https://www.amazon.in/Carrier-Inverter-Split-C...     4.1           630   \n",
       "\n",
       "  discount_price actual_price  \n",
       "0        ₹32,999      ₹58,990  \n",
       "1        ₹46,490      ₹75,990  \n",
       "2        ₹34,490      ₹61,990  \n",
       "3        ₹37,990      ₹68,990  \n",
       "4        ₹34,490      ₹67,790  "
      ]
     },
     "execution_count": 32,
     "metadata": {},
     "output_type": "execute_result"
    }
   ],
   "source": [
    "\n",
    "df.drop(columns=['Unnamed: 0'], inplace=True, errors='ignore')\n",
    "\n",
    "df.head()"
   ]
  },
  {
   "cell_type": "markdown",
   "id": "6485badf",
   "metadata": {},
   "source": [
    "#### **<h1 align=\"center\"><span style=\"color:#ff9900;\">Column Names of the Dataset</span>**"
   ]
  },
  {
   "cell_type": "code",
   "execution_count": 33,
   "id": "3b00b69d",
   "metadata": {},
   "outputs": [
    {
     "data": {
      "text/plain": [
       "Index(['name', 'main_category', 'sub_category', 'image', 'link', 'ratings',\n",
       "       'no_of_ratings', 'discount_price', 'actual_price'],\n",
       "      dtype='object')"
      ]
     },
     "execution_count": 33,
     "metadata": {},
     "output_type": "execute_result"
    }
   ],
   "source": [
    "df.columns"
   ]
  },
  {
   "cell_type": "markdown",
   "id": "b541872d",
   "metadata": {},
   "source": [
    "#### **<h1 align=\"center\"><span style=\"color:#ff9900;\">Rows and Columns</span>**\n",
    "### ***Lets see how many total rows and columns the dataset now have after joining all the 140 files***"
   ]
  },
  {
   "cell_type": "code",
   "execution_count": 34,
   "id": "67310eed",
   "metadata": {},
   "outputs": [
    {
     "name": "stdout",
     "output_type": "stream",
     "text": [
      "The Number of Rows are 1103170, and columns are 9.\n"
     ]
    }
   ],
   "source": [
    "print(f\"The Number of Rows are {df.shape[0]}, and columns are {df.shape[1]}.\")"
   ]
  },
  {
   "cell_type": "markdown",
   "id": "e88d64bb",
   "metadata": {},
   "source": [
    "#### **<h1 align=\"center\"><span style=\"color:#ff9900;\">Datatypes</span>**\n",
    "### ***Lets check the datatypes of the columns using .info function***"
   ]
  },
  {
   "cell_type": "code",
   "execution_count": 35,
   "id": "3d33329b",
   "metadata": {},
   "outputs": [
    {
     "name": "stdout",
     "output_type": "stream",
     "text": [
      "<class 'pandas.core.frame.DataFrame'>\n",
      "RangeIndex: 1103170 entries, 0 to 1103169\n",
      "Data columns (total 9 columns):\n",
      " #   Column          Non-Null Count    Dtype \n",
      "---  ------          --------------    ----- \n",
      " 0   name            1103170 non-null  object\n",
      " 1   main_category   1103170 non-null  object\n",
      " 2   sub_category    1103170 non-null  object\n",
      " 3   image           1103170 non-null  object\n",
      " 4   link            1103170 non-null  object\n",
      " 5   ratings         751582 non-null   object\n",
      " 6   no_of_ratings   751582 non-null   object\n",
      " 7   discount_price  980844 non-null   object\n",
      " 8   actual_price    1067544 non-null  object\n",
      "dtypes: object(9)\n",
      "memory usage: 75.7+ MB\n"
     ]
    }
   ],
   "source": [
    "df.info()"
   ]
  },
  {
   "cell_type": "code",
   "execution_count": 36,
   "id": "9e02f342",
   "metadata": {},
   "outputs": [
    {
     "data": {
      "text/plain": [
       "name                   0\n",
       "main_category          0\n",
       "sub_category           0\n",
       "image                  0\n",
       "link                   0\n",
       "ratings           351588\n",
       "no_of_ratings     351588\n",
       "discount_price    122326\n",
       "actual_price       35626\n",
       "dtype: int64"
      ]
     },
     "execution_count": 36,
     "metadata": {},
     "output_type": "execute_result"
    }
   ],
   "source": [
    "df.isnull().sum()"
   ]
  },
  {
   "cell_type": "markdown",
   "id": "8d10dd1f",
   "metadata": {},
   "source": [
    "### ***We can clearly see that we have lot of null values in the Column : ratings,no_of_ratings_discount_price,actual_price***"
   ]
  },
  {
   "cell_type": "markdown",
   "id": "c997df13",
   "metadata": {},
   "source": [
    "#### **<h1 align=\"center\"><span style=\"color:#ff9900;\">Changing Datatypes of Columns</span>**\n",
    "### ***Lets remove the symbols and commas from the price columns and also change their datatype after that***"
   ]
  },
  {
   "cell_type": "code",
   "execution_count": 37,
   "id": "661d5506",
   "metadata": {},
   "outputs": [],
   "source": [
    "df['discount_price'] = df['discount_price'].str.replace('₹', '')\n",
    "df['discount_price'] = df['discount_price'].str.replace(',', '')\n",
    "df['discount_price'] = df['discount_price'].astype(float)"
   ]
  },
  {
   "cell_type": "code",
   "execution_count": 38,
   "id": "f7625c4b",
   "metadata": {},
   "outputs": [],
   "source": [
    "df['actual_price'] = df['actual_price'].str.replace('₹', '')\n",
    "df['actual_price'] = df['actual_price'].str.replace(',', '')\n",
    "df['actual_price'] = df['actual_price'].astype(float)"
   ]
  },
  {
   "cell_type": "code",
   "execution_count": 39,
   "id": "c55d4c8c",
   "metadata": {},
   "outputs": [
    {
     "data": {
      "text/html": [
       "<div>\n",
       "<style scoped>\n",
       "    .dataframe tbody tr th:only-of-type {\n",
       "        vertical-align: middle;\n",
       "    }\n",
       "\n",
       "    .dataframe tbody tr th {\n",
       "        vertical-align: top;\n",
       "    }\n",
       "\n",
       "    .dataframe thead th {\n",
       "        text-align: right;\n",
       "    }\n",
       "</style>\n",
       "<table border=\"1\" class=\"dataframe\">\n",
       "  <thead>\n",
       "    <tr style=\"text-align: right;\">\n",
       "      <th></th>\n",
       "      <th>name</th>\n",
       "      <th>main_category</th>\n",
       "      <th>sub_category</th>\n",
       "      <th>image</th>\n",
       "      <th>link</th>\n",
       "      <th>ratings</th>\n",
       "      <th>no_of_ratings</th>\n",
       "      <th>discount_price</th>\n",
       "      <th>actual_price</th>\n",
       "    </tr>\n",
       "  </thead>\n",
       "  <tbody>\n",
       "    <tr>\n",
       "      <th>0</th>\n",
       "      <td>Lloyd 1.5 Ton 3 Star Inverter Split Ac (5 In 1...</td>\n",
       "      <td>appliances</td>\n",
       "      <td>Air Conditioners</td>\n",
       "      <td>https://m.media-amazon.com/images/I/31UISB90sY...</td>\n",
       "      <td>https://www.amazon.in/Lloyd-Inverter-Convertib...</td>\n",
       "      <td>4.2</td>\n",
       "      <td>2,255</td>\n",
       "      <td>32999.0</td>\n",
       "      <td>58990.0</td>\n",
       "    </tr>\n",
       "    <tr>\n",
       "      <th>1</th>\n",
       "      <td>LG 1.5 Ton 5 Star AI DUAL Inverter Split AC (C...</td>\n",
       "      <td>appliances</td>\n",
       "      <td>Air Conditioners</td>\n",
       "      <td>https://m.media-amazon.com/images/I/51JFb7FctD...</td>\n",
       "      <td>https://www.amazon.in/LG-Convertible-Anti-Viru...</td>\n",
       "      <td>4.2</td>\n",
       "      <td>2,948</td>\n",
       "      <td>46490.0</td>\n",
       "      <td>75990.0</td>\n",
       "    </tr>\n",
       "    <tr>\n",
       "      <th>2</th>\n",
       "      <td>LG 1 Ton 4 Star Ai Dual Inverter Split Ac (Cop...</td>\n",
       "      <td>appliances</td>\n",
       "      <td>Air Conditioners</td>\n",
       "      <td>https://m.media-amazon.com/images/I/51JFb7FctD...</td>\n",
       "      <td>https://www.amazon.in/LG-Inverter-Convertible-...</td>\n",
       "      <td>4.2</td>\n",
       "      <td>1,206</td>\n",
       "      <td>34490.0</td>\n",
       "      <td>61990.0</td>\n",
       "    </tr>\n",
       "    <tr>\n",
       "      <th>3</th>\n",
       "      <td>LG 1.5 Ton 3 Star AI DUAL Inverter Split AC (C...</td>\n",
       "      <td>appliances</td>\n",
       "      <td>Air Conditioners</td>\n",
       "      <td>https://m.media-amazon.com/images/I/51JFb7FctD...</td>\n",
       "      <td>https://www.amazon.in/LG-Convertible-Anti-Viru...</td>\n",
       "      <td>4.0</td>\n",
       "      <td>69</td>\n",
       "      <td>37990.0</td>\n",
       "      <td>68990.0</td>\n",
       "    </tr>\n",
       "    <tr>\n",
       "      <th>4</th>\n",
       "      <td>Carrier 1.5 Ton 3 Star Inverter Split AC (Copp...</td>\n",
       "      <td>appliances</td>\n",
       "      <td>Air Conditioners</td>\n",
       "      <td>https://m.media-amazon.com/images/I/41lrtqXPiW...</td>\n",
       "      <td>https://www.amazon.in/Carrier-Inverter-Split-C...</td>\n",
       "      <td>4.1</td>\n",
       "      <td>630</td>\n",
       "      <td>34490.0</td>\n",
       "      <td>67790.0</td>\n",
       "    </tr>\n",
       "  </tbody>\n",
       "</table>\n",
       "</div>"
      ],
      "text/plain": [
       "                                                name main_category  \\\n",
       "0  Lloyd 1.5 Ton 3 Star Inverter Split Ac (5 In 1...    appliances   \n",
       "1  LG 1.5 Ton 5 Star AI DUAL Inverter Split AC (C...    appliances   \n",
       "2  LG 1 Ton 4 Star Ai Dual Inverter Split Ac (Cop...    appliances   \n",
       "3  LG 1.5 Ton 3 Star AI DUAL Inverter Split AC (C...    appliances   \n",
       "4  Carrier 1.5 Ton 3 Star Inverter Split AC (Copp...    appliances   \n",
       "\n",
       "       sub_category                                              image  \\\n",
       "0  Air Conditioners  https://m.media-amazon.com/images/I/31UISB90sY...   \n",
       "1  Air Conditioners  https://m.media-amazon.com/images/I/51JFb7FctD...   \n",
       "2  Air Conditioners  https://m.media-amazon.com/images/I/51JFb7FctD...   \n",
       "3  Air Conditioners  https://m.media-amazon.com/images/I/51JFb7FctD...   \n",
       "4  Air Conditioners  https://m.media-amazon.com/images/I/41lrtqXPiW...   \n",
       "\n",
       "                                                link ratings no_of_ratings  \\\n",
       "0  https://www.amazon.in/Lloyd-Inverter-Convertib...     4.2         2,255   \n",
       "1  https://www.amazon.in/LG-Convertible-Anti-Viru...     4.2         2,948   \n",
       "2  https://www.amazon.in/LG-Inverter-Convertible-...     4.2         1,206   \n",
       "3  https://www.amazon.in/LG-Convertible-Anti-Viru...     4.0            69   \n",
       "4  https://www.amazon.in/Carrier-Inverter-Split-C...     4.1           630   \n",
       "\n",
       "   discount_price  actual_price  \n",
       "0         32999.0       58990.0  \n",
       "1         46490.0       75990.0  \n",
       "2         34490.0       61990.0  \n",
       "3         37990.0       68990.0  \n",
       "4         34490.0       67790.0  "
      ]
     },
     "execution_count": 39,
     "metadata": {},
     "output_type": "execute_result"
    }
   ],
   "source": [
    "df.head(5)"
   ]
  },
  {
   "cell_type": "markdown",
   "id": "41bb7562",
   "metadata": {},
   "source": [
    "#### **<h1 align=\"center\"><span style=\"color:#ff9900;\">Creating Discount Percent Column</span>**\n",
    "### ***Now we will create discount_percent column but in decimal values to avoid future inconvinience***"
   ]
  },
  {
   "cell_type": "code",
   "execution_count": 41,
   "id": "25be0bb3",
   "metadata": {},
   "outputs": [],
   "source": [
    "df['Discount_Percent'] = pd.Series(\n",
    "    np.where(\n",
    "        (df['actual_price'].notna()) & (df['discount_price'].notna()) & (df['actual_price'] > 0),\n",
    "        (df['actual_price'] - df['discount_price']) / df['actual_price'],\n",
    "        np.nan\n",
    "    )\n",
    "\n",
    ").clip(lower=0, upper=1)"
   ]
  },
  {
   "cell_type": "code",
   "execution_count": 42,
   "id": "90f48a14",
   "metadata": {},
   "outputs": [
    {
     "data": {
      "text/html": [
       "<div>\n",
       "<style scoped>\n",
       "    .dataframe tbody tr th:only-of-type {\n",
       "        vertical-align: middle;\n",
       "    }\n",
       "\n",
       "    .dataframe tbody tr th {\n",
       "        vertical-align: top;\n",
       "    }\n",
       "\n",
       "    .dataframe thead th {\n",
       "        text-align: right;\n",
       "    }\n",
       "</style>\n",
       "<table border=\"1\" class=\"dataframe\">\n",
       "  <thead>\n",
       "    <tr style=\"text-align: right;\">\n",
       "      <th></th>\n",
       "      <th>name</th>\n",
       "      <th>main_category</th>\n",
       "      <th>sub_category</th>\n",
       "      <th>image</th>\n",
       "      <th>link</th>\n",
       "      <th>ratings</th>\n",
       "      <th>no_of_ratings</th>\n",
       "      <th>discount_price</th>\n",
       "      <th>actual_price</th>\n",
       "      <th>Discount_Percent</th>\n",
       "    </tr>\n",
       "  </thead>\n",
       "  <tbody>\n",
       "    <tr>\n",
       "      <th>0</th>\n",
       "      <td>Lloyd 1.5 Ton 3 Star Inverter Split Ac (5 In 1...</td>\n",
       "      <td>appliances</td>\n",
       "      <td>Air Conditioners</td>\n",
       "      <td>https://m.media-amazon.com/images/I/31UISB90sY...</td>\n",
       "      <td>https://www.amazon.in/Lloyd-Inverter-Convertib...</td>\n",
       "      <td>4.2</td>\n",
       "      <td>2,255</td>\n",
       "      <td>32999.0</td>\n",
       "      <td>58990.0</td>\n",
       "      <td>0.440600</td>\n",
       "    </tr>\n",
       "    <tr>\n",
       "      <th>1</th>\n",
       "      <td>LG 1.5 Ton 5 Star AI DUAL Inverter Split AC (C...</td>\n",
       "      <td>appliances</td>\n",
       "      <td>Air Conditioners</td>\n",
       "      <td>https://m.media-amazon.com/images/I/51JFb7FctD...</td>\n",
       "      <td>https://www.amazon.in/LG-Convertible-Anti-Viru...</td>\n",
       "      <td>4.2</td>\n",
       "      <td>2,948</td>\n",
       "      <td>46490.0</td>\n",
       "      <td>75990.0</td>\n",
       "      <td>0.388209</td>\n",
       "    </tr>\n",
       "    <tr>\n",
       "      <th>2</th>\n",
       "      <td>LG 1 Ton 4 Star Ai Dual Inverter Split Ac (Cop...</td>\n",
       "      <td>appliances</td>\n",
       "      <td>Air Conditioners</td>\n",
       "      <td>https://m.media-amazon.com/images/I/51JFb7FctD...</td>\n",
       "      <td>https://www.amazon.in/LG-Inverter-Convertible-...</td>\n",
       "      <td>4.2</td>\n",
       "      <td>1,206</td>\n",
       "      <td>34490.0</td>\n",
       "      <td>61990.0</td>\n",
       "      <td>0.443620</td>\n",
       "    </tr>\n",
       "    <tr>\n",
       "      <th>3</th>\n",
       "      <td>LG 1.5 Ton 3 Star AI DUAL Inverter Split AC (C...</td>\n",
       "      <td>appliances</td>\n",
       "      <td>Air Conditioners</td>\n",
       "      <td>https://m.media-amazon.com/images/I/51JFb7FctD...</td>\n",
       "      <td>https://www.amazon.in/LG-Convertible-Anti-Viru...</td>\n",
       "      <td>4.0</td>\n",
       "      <td>69</td>\n",
       "      <td>37990.0</td>\n",
       "      <td>68990.0</td>\n",
       "      <td>0.449340</td>\n",
       "    </tr>\n",
       "    <tr>\n",
       "      <th>4</th>\n",
       "      <td>Carrier 1.5 Ton 3 Star Inverter Split AC (Copp...</td>\n",
       "      <td>appliances</td>\n",
       "      <td>Air Conditioners</td>\n",
       "      <td>https://m.media-amazon.com/images/I/41lrtqXPiW...</td>\n",
       "      <td>https://www.amazon.in/Carrier-Inverter-Split-C...</td>\n",
       "      <td>4.1</td>\n",
       "      <td>630</td>\n",
       "      <td>34490.0</td>\n",
       "      <td>67790.0</td>\n",
       "      <td>0.491223</td>\n",
       "    </tr>\n",
       "  </tbody>\n",
       "</table>\n",
       "</div>"
      ],
      "text/plain": [
       "                                                name main_category  \\\n",
       "0  Lloyd 1.5 Ton 3 Star Inverter Split Ac (5 In 1...    appliances   \n",
       "1  LG 1.5 Ton 5 Star AI DUAL Inverter Split AC (C...    appliances   \n",
       "2  LG 1 Ton 4 Star Ai Dual Inverter Split Ac (Cop...    appliances   \n",
       "3  LG 1.5 Ton 3 Star AI DUAL Inverter Split AC (C...    appliances   \n",
       "4  Carrier 1.5 Ton 3 Star Inverter Split AC (Copp...    appliances   \n",
       "\n",
       "       sub_category                                              image  \\\n",
       "0  Air Conditioners  https://m.media-amazon.com/images/I/31UISB90sY...   \n",
       "1  Air Conditioners  https://m.media-amazon.com/images/I/51JFb7FctD...   \n",
       "2  Air Conditioners  https://m.media-amazon.com/images/I/51JFb7FctD...   \n",
       "3  Air Conditioners  https://m.media-amazon.com/images/I/51JFb7FctD...   \n",
       "4  Air Conditioners  https://m.media-amazon.com/images/I/41lrtqXPiW...   \n",
       "\n",
       "                                                link ratings no_of_ratings  \\\n",
       "0  https://www.amazon.in/Lloyd-Inverter-Convertib...     4.2         2,255   \n",
       "1  https://www.amazon.in/LG-Convertible-Anti-Viru...     4.2         2,948   \n",
       "2  https://www.amazon.in/LG-Inverter-Convertible-...     4.2         1,206   \n",
       "3  https://www.amazon.in/LG-Convertible-Anti-Viru...     4.0            69   \n",
       "4  https://www.amazon.in/Carrier-Inverter-Split-C...     4.1           630   \n",
       "\n",
       "   discount_price  actual_price  Discount_Percent  \n",
       "0         32999.0       58990.0          0.440600  \n",
       "1         46490.0       75990.0          0.388209  \n",
       "2         34490.0       61990.0          0.443620  \n",
       "3         37990.0       68990.0          0.449340  \n",
       "4         34490.0       67790.0          0.491223  "
      ]
     },
     "execution_count": 42,
     "metadata": {},
     "output_type": "execute_result"
    }
   ],
   "source": [
    "df.head(5)"
   ]
  },
  {
   "cell_type": "code",
   "execution_count": null,
   "id": "0a9af2d5",
   "metadata": {},
   "outputs": [],
   "source": []
  }
 ],
 "metadata": {
  "kernelspec": {
   "display_name": "Python 3",
   "language": "python",
   "name": "python3"
  },
  "language_info": {
   "codemirror_mode": {
    "name": "ipython",
    "version": 3
   },
   "file_extension": ".py",
   "mimetype": "text/x-python",
   "name": "python",
   "nbconvert_exporter": "python",
   "pygments_lexer": "ipython3",
   "version": "3.13.1"
  }
 },
 "nbformat": 4,
 "nbformat_minor": 5
}
