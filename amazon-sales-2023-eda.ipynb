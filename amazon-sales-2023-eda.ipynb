{
 "cells": [
  {
   "cell_type": "markdown",
   "id": "dad535c8",
   "metadata": {},
   "source": [
    "# **<p style=\"font-family:Inter, sans-serif;font-size:150%;text-align:center;color:#ff9900;\">AMAZON SALES DATASET - 2023 EDA</p>**"
   ]
  },
  {
   "cell_type": "markdown",
   "id": "d729bccc",
   "metadata": {},
   "source": [
    "<center>\n",
    "    <img src=\"amazon-eda-image.png\" alt=\"Amazon Sales EDA\" width=\"700\">\n",
    "</center>"
   ]
  },
  {
   "cell_type": "markdown",
   "id": "f8dd9cf2",
   "metadata": {},
   "source": [
    "# **<p style=\"font-family:Inter, sans-serif;font-size:100%;text-align:center;color:#ff9900;\">ABOUT AUTHOR</p>**\n",
    "\n",
    "### ***Project: Amazon Sales Dataset 2023 EDA***\n",
    "\n",
    "---\n",
    "\n",
    "### ***Author: Syed Ahmad Rayyan***\n",
    "***Young Data Science Aspirant and Kaggle Contributor***\n",
    "\n",
    "**Contact:** [Email](mailto:rayyansyed369@gmail.com) | [LinkedIn](https://www.linkedin.com/in/syed-rayyan369) | [GitHub](https://github.com/RayyanDevZone) | [Kaggle](https://www.kaggle.com/syedahmadrayyan)\n",
    "\n",
    "---\n"
   ]
  },
  {
   "cell_type": "markdown",
   "id": "dfd19827",
   "metadata": {},
   "source": []
  }
 ],
 "metadata": {
  "language_info": {
   "name": "python"
  }
 },
 "nbformat": 4,
 "nbformat_minor": 5
}
